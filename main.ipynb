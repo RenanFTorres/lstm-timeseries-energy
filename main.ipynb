{
  "cells": [
    {
      "cell_type": "markdown",
      "metadata": {
        "id": "rQy75p6HhZim"
      },
      "source": [
        "## **Importação das bibliotecas e dados (AEP e Duas Unas)**"
      ]
    },
    {
      "cell_type": "code",
      "execution_count": 1,
      "metadata": {},
      "outputs": [
        {
          "name": "stdout",
          "output_type": "stream",
          "text": [
            "Requirement already satisfied: scikit-learn in c:\\users\\renan torres\\appdata\\local\\programs\\python\\python310\\lib\\site-packages (1.5.2)\n",
            "Requirement already satisfied: joblib>=1.2.0 in c:\\users\\renan torres\\appdata\\local\\programs\\python\\python310\\lib\\site-packages (from scikit-learn) (1.4.2)\n",
            "Requirement already satisfied: threadpoolctl>=3.1.0 in c:\\users\\renan torres\\appdata\\local\\programs\\python\\python310\\lib\\site-packages (from scikit-learn) (3.5.0)\n",
            "Requirement already satisfied: numpy>=1.19.5 in c:\\users\\renan torres\\appdata\\local\\programs\\python\\python310\\lib\\site-packages (from scikit-learn) (2.1.1)\n",
            "Requirement already satisfied: scipy>=1.6.0 in c:\\users\\renan torres\\appdata\\local\\programs\\python\\python310\\lib\\site-packages (from scikit-learn) (1.14.1)\n",
            "Note: you may need to restart the kernel to use updated packages.\n"
          ]
        },
        {
          "name": "stderr",
          "output_type": "stream",
          "text": [
            "WARNING: There was an error checking the latest version of pip.\n"
          ]
        },
        {
          "name": "stdout",
          "output_type": "stream",
          "text": [
            "Requirement already satisfied: matplotlib in c:\\users\\renan torres\\appdata\\local\\programs\\python\\python310\\lib\\site-packages (3.9.2)\n",
            "Requirement already satisfied: packaging>=20.0 in c:\\users\\renan torres\\appdata\\roaming\\python\\python310\\site-packages (from matplotlib) (24.1)\n",
            "Requirement already satisfied: pyparsing>=2.3.1 in c:\\users\\renan torres\\appdata\\local\\programs\\python\\python310\\lib\\site-packages (from matplotlib) (3.1.4)\n",
            "Requirement already satisfied: contourpy>=1.0.1 in c:\\users\\renan torres\\appdata\\local\\programs\\python\\python310\\lib\\site-packages (from matplotlib) (1.3.0)\n",
            "Requirement already satisfied: numpy>=1.23 in c:\\users\\renan torres\\appdata\\local\\programs\\python\\python310\\lib\\site-packages (from matplotlib) (2.1.1)\n",
            "Requirement already satisfied: pillow>=8 in c:\\users\\renan torres\\appdata\\local\\programs\\python\\python310\\lib\\site-packages (from matplotlib) (10.4.0)\n",
            "Requirement already satisfied: fonttools>=4.22.0 in c:\\users\\renan torres\\appdata\\local\\programs\\python\\python310\\lib\\site-packages (from matplotlib) (4.53.1)\n",
            "Requirement already satisfied: python-dateutil>=2.7 in c:\\users\\renan torres\\appdata\\roaming\\python\\python310\\site-packages (from matplotlib) (2.9.0.post0)\n",
            "Requirement already satisfied: kiwisolver>=1.3.1 in c:\\users\\renan torres\\appdata\\local\\programs\\python\\python310\\lib\\site-packages (from matplotlib) (1.4.7)\n",
            "Requirement already satisfied: cycler>=0.10 in c:\\users\\renan torres\\appdata\\local\\programs\\python\\python310\\lib\\site-packages (from matplotlib) (0.12.1)\n",
            "Requirement already satisfied: six>=1.5 in c:\\users\\renan torres\\appdata\\local\\programs\\python\\python310\\lib\\site-packages (from python-dateutil>=2.7->matplotlib) (1.16.0)\n",
            "Note: you may need to restart the kernel to use updated packages.\n"
          ]
        },
        {
          "name": "stderr",
          "output_type": "stream",
          "text": [
            "WARNING: There was an error checking the latest version of pip.\n"
          ]
        },
        {
          "name": "stdout",
          "output_type": "stream",
          "text": [
            "Requirement already satisfied: keras in c:\\users\\renan torres\\appdata\\local\\programs\\python\\python310\\lib\\site-packages (3.5.0)\n",
            "Requirement already satisfied: packaging in c:\\users\\renan torres\\appdata\\roaming\\python\\python310\\site-packages (from keras) (24.1)\n",
            "Requirement already satisfied: namex in c:\\users\\renan torres\\appdata\\local\\programs\\python\\python310\\lib\\site-packages (from keras) (0.0.8)\n",
            "Requirement already satisfied: h5py in c:\\users\\renan torres\\appdata\\local\\programs\\python\\python310\\lib\\site-packages (from keras) (3.11.0)\n",
            "Requirement already satisfied: optree in c:\\users\\renan torres\\appdata\\local\\programs\\python\\python310\\lib\\site-packages (from keras) (0.12.1)\n",
            "Requirement already satisfied: rich in c:\\users\\renan torres\\appdata\\local\\programs\\python\\python310\\lib\\site-packages (from keras) (13.8.1)\n",
            "Requirement already satisfied: ml-dtypes in c:\\users\\renan torres\\appdata\\local\\programs\\python\\python310\\lib\\site-packages (from keras) (0.4.1)\n",
            "Requirement already satisfied: absl-py in c:\\users\\renan torres\\appdata\\local\\programs\\python\\python310\\lib\\site-packages (from keras) (2.1.0)\n",
            "Requirement already satisfied: numpy in c:\\users\\renan torres\\appdata\\local\\programs\\python\\python310\\lib\\site-packages (from keras) (2.1.1)\n",
            "Requirement already satisfied: typing-extensions>=4.5.0 in c:\\users\\renan torres\\appdata\\roaming\\python\\python310\\site-packages (from optree->keras) (4.12.2)\n",
            "Requirement already satisfied: markdown-it-py>=2.2.0 in c:\\users\\renan torres\\appdata\\local\\programs\\python\\python310\\lib\\site-packages (from rich->keras) (3.0.0)\n",
            "Requirement already satisfied: pygments<3.0.0,>=2.13.0 in c:\\users\\renan torres\\appdata\\roaming\\python\\python310\\site-packages (from rich->keras) (2.18.0)\n",
            "Requirement already satisfied: mdurl~=0.1 in c:\\users\\renan torres\\appdata\\local\\programs\\python\\python310\\lib\\site-packages (from markdown-it-py>=2.2.0->rich->keras) (0.1.2)\n",
            "Note: you may need to restart the kernel to use updated packages.\n"
          ]
        },
        {
          "name": "stderr",
          "output_type": "stream",
          "text": [
            "WARNING: There was an error checking the latest version of pip.\n"
          ]
        }
      ],
      "source": [
        "%pip install scikit-learn\n",
        "%pip install matplotlib\n",
        "%pip install keras\n",
        "%pip install tensorflow"
      ]
    },
    {
      "cell_type": "code",
      "execution_count": 5,
      "metadata": {
        "colab": {
          "background_save": true
        },
        "id": "D-eSfJgl8qO_"
      },
      "outputs": [
        {
          "ename": "SyntaxError",
          "evalue": "invalid syntax (1065314358.py, line 1)",
          "output_type": "error",
          "traceback": [
            "\u001b[1;36m  Cell \u001b[1;32mIn[5], line 1\u001b[1;36m\u001b[0m\n\u001b[1;33m    pip install numpy\u001b[0m\n\u001b[1;37m        ^\u001b[0m\n\u001b[1;31mSyntaxError\u001b[0m\u001b[1;31m:\u001b[0m invalid syntax\n"
          ]
        }
      ],
      "source": [
        "import numpy as np    #Biblioteca matemática\n",
        "import pandas as pd   #Biblioteca para manipulação de dados\n",
        "import matplotlib.pyplot as plt #Biblioteca gráfica\n",
        "import tensorflow as tf #Biblioteca para machine learning\n",
        "import sklearn.preprocessing #Biblioteca para machine learning\n",
        "import random\n",
        "import keras\n",
        "from sklearn.metrics import r2_score\n",
        "from sklearn.metrics import mean_absolute_error\n",
        "from sklearn.metrics import mean_squared_error\n",
        "from sklearn.metrics import mean_absolute_percentage_error\n",
        "\n",
        "from keras.layers import Dense,Dropout,SimpleRNN,LSTM #Biblioteca para deep learning\n",
        "from keras.models import Sequential\n",
        "\n",
        "#tf.keras.utils.set_random_seed(1234)\n",
        "\n",
        "# Mecanismo de Atenção\n",
        "from keras.layers import Layer\n",
        "import keras.backend as K"
      ]
    },
    {
      "cell_type": "code",
      "execution_count": null,
      "metadata": {
        "colab": {
          "background_save": true
        },
        "id": "-O4VfCl79fTH"
      },
      "outputs": [],
      "source": [
        "from google.colab import drive\n",
        "drive.mount('/content/drive')"
      ]
    },
    {
      "cell_type": "code",
      "execution_count": null,
      "metadata": {
        "colab": {
          "background_save": true
        },
        "id": "16Iw0njJ9p2y"
      },
      "outputs": [],
      "source": [
        "#Busca dos dados de pré-treinamento no drive (AEP DATASET)\n",
        "\n",
        "path1 = '/content/drive/MyDrive/Mestrado/Cursos/Machine Learning com Python/TensorFlow/Dados_Energia/Kaggle/AEP_hourly - AEP_hourly.csv'\n",
        "dados = pd.read_csv(path1,sep=',', encoding='iso-8859-1') #, index_col='Data', parse_dates=['Data'])\n",
        "# encoding: codificação de caracteres, normalmente utiliza-se o iso-8859-1, utf-8, latin-1)\n"
      ]
    },
    {
      "cell_type": "code",
      "execution_count": null,
      "metadata": {
        "colab": {
          "background_save": true
        },
        "id": "4aTyn-mqmh3a"
      },
      "outputs": [],
      "source": [
        "#Busca dos dados de treinamento no drive (DUAS UNAS DATASET)\n",
        "\n",
        "path2 = '/content/drive/MyDrive/Mestrado/Cursos/Machine Learning com Python/TensorFlow/Dados_Energia/Compesa/EEAB DUAS UNAS/EEAB DUAS UNAS.csv'\n",
        "dados2 = pd.read_csv(path2,sep=',', encoding='iso-8859-1')\n",
        "# encoding: codificação de caracteres, normalmente utiliza-se o iso-8859-1, utf-8, latin-1)"
      ]
    },
    {
      "cell_type": "markdown",
      "metadata": {
        "id": "qW4ExC6UnZz_"
      },
      "source": [
        "## **Dados de Pré-treinamento (AEP)**\n"
      ]
    },
    {
      "cell_type": "code",
      "execution_count": null,
      "metadata": {
        "colab": {
          "background_save": true
        },
        "id": "5D0xauiQCs_i"
      },
      "outputs": [],
      "source": [
        "dados = dados.sort_values(by='DateTime')\n",
        "dados = dados.set_index('DateTime')\n",
        "dados"
      ]
    },
    {
      "cell_type": "code",
      "execution_count": null,
      "metadata": {
        "colab": {
          "background_save": true
        },
        "id": "i73hWli3Co6h"
      },
      "outputs": [],
      "source": [
        "import plotly.express as px #Biblioteca gráfica"
      ]
    },
    {
      "cell_type": "code",
      "execution_count": null,
      "metadata": {
        "colab": {
          "background_save": true
        },
        "id": "TgHMtjfxCtIB"
      },
      "outputs": [],
      "source": [
        "hist1 = px.histogram(dados, x = 'kWh fornecido', nbins = 60)  #Histograma kWh fornecido\n",
        "hist1.update_layout (width = 800, height = 400, title_text = 'Distribuição das Potências')\n",
        "hist1.show()"
      ]
    },
    {
      "cell_type": "code",
      "execution_count": null,
      "metadata": {
        "colab": {
          "background_save": true
        },
        "id": "j7BOLThADYXE"
      },
      "outputs": [],
      "source": [
        "import seaborn as sns #Biblioteca gráfica e estatística"
      ]
    },
    {
      "cell_type": "code",
      "execution_count": null,
      "metadata": {
        "colab": {
          "background_save": true
        },
        "id": "7xEqM7y1Da-t"
      },
      "outputs": [],
      "source": [
        "sns.histplot(dados, x='kWh fornecido', bins=100, color=\"orange\", kde=True, stat=\"count\");  # kde=true - plota linha de tendência da densidade"
      ]
    },
    {
      "cell_type": "code",
      "execution_count": null,
      "metadata": {
        "colab": {
          "background_save": true
        },
        "id": "HoXhxwsJFBDG"
      },
      "outputs": [],
      "source": [
        "px.box(dados, y='kWh fornecido')  #Boxplot - Visualização dos outliers"
      ]
    },
    {
      "cell_type": "code",
      "execution_count": null,
      "metadata": {
        "colab": {
          "background_save": true
        },
        "id": "2NIiuizLE-JP"
      },
      "outputs": [],
      "source": [
        "dados['kWh fornecido'].astype(float)\n",
        "dados.plot(figsize=(30,6),legend=True)  #Gráfico PJME_MW ao longo dos 16 anos\n",
        "\n",
        "plt.title('Perfil de Consumo de Energia EEAB DUAS UNAS - 2022')\n",
        "\n",
        "plt.show()"
      ]
    },
    {
      "cell_type": "markdown",
      "metadata": {
        "id": "sfY3t1p7oHSV"
      },
      "source": [
        "## **Dados de Treinamento (Duas Unas)**"
      ]
    },
    {
      "cell_type": "code",
      "execution_count": null,
      "metadata": {
        "colab": {
          "background_save": true
        },
        "id": "FtM7kCYxpVWk"
      },
      "outputs": [],
      "source": [
        "#Ajustar o tipo do dado 'hora'\n",
        "dados2['Hora'].astype(int)\n",
        "dados2['Hora'].dtypes"
      ]
    },
    {
      "cell_type": "code",
      "execution_count": null,
      "metadata": {
        "colab": {
          "background_save": true
        },
        "id": "Sg82L7RRppt5"
      },
      "outputs": [],
      "source": [
        "#Função para inserir dígitos '0' nas horas\n",
        "def horas(number):\n",
        "    if number == 24:\n",
        "      hora = '00:00'\n",
        "    else:\n",
        "      if number < 10:\n",
        "        hora = '0'+str(number)+':00'\n",
        "      else:\n",
        "        hora = str(number)[:]+':00'\n",
        "    return hora"
      ]
    },
    {
      "cell_type": "code",
      "execution_count": null,
      "metadata": {
        "colab": {
          "background_save": true
        },
        "id": "vjqdcUQ5qOn5"
      },
      "outputs": [],
      "source": [
        "#Inserir dígitos '0' nas horas\n",
        "for i in range(len(dados2)):\n",
        "  dados2['Hora'].iloc[i] = horas(dados2['Hora'].iloc[i])"
      ]
    },
    {
      "cell_type": "code",
      "execution_count": null,
      "metadata": {
        "colab": {
          "background_save": true
        },
        "id": "k45JM6HpqiRf"
      },
      "outputs": [],
      "source": [
        "#Correção da data na hora 00:00h\n",
        "for i in range(len(dados2)-1):\n",
        "  if (dados2['Hora'].iloc[i] == '00:00'):\n",
        "    dados2['Data'].iloc[i] = dados2['Data'].iloc[i+1]"
      ]
    },
    {
      "cell_type": "code",
      "execution_count": null,
      "metadata": {
        "colab": {
          "background_save": true
        },
        "id": "_YCcPKs9qu2C"
      },
      "outputs": [],
      "source": [
        "#Retirada da última linha de dado - data errada\n",
        "dados2 = dados2[:len(dados2)-1]\n",
        "dados2.tail()"
      ]
    },
    {
      "cell_type": "code",
      "execution_count": null,
      "metadata": {
        "colab": {
          "background_save": true
        },
        "id": "14FWYD2OrDxi"
      },
      "outputs": [],
      "source": [
        "#Transformação da matriz de dados em dataframe, aglutinação das colunas de 'data' e 'hora' em uma só, configuração do dado 'datetime', ordenação das linhas por 'datetime', transformação da coluna 'Datetime' em índice do dataframe e exclusão das colunas 'data' e 'hora'\n",
        "dados2 = pd.DataFrame(dados2, columns =['Data','Hora','kWh fornecido'])\n",
        "dados2['DateTime'] = dados2['Data'] + ' ' + dados2['Hora']\n",
        "dados2['DateTime'] = pd.to_datetime(dados2['DateTime'], format='%d/%m/%Y %H:%M') # Use the correct format string\n",
        "dados2 = dados2.sort_values(by='DateTime')\n",
        "dados2 = dados2.set_index('DateTime')\n",
        "dados2 = dados2.drop(['Data', 'Hora'], axis=1)\n",
        "dados2.tail()"
      ]
    },
    {
      "cell_type": "code",
      "execution_count": null,
      "metadata": {
        "colab": {
          "background_save": true
        },
        "id": "tLj6Qswbv9we"
      },
      "outputs": [],
      "source": [
        "#CÉLULA APENAS PARA DADOS DIÁRIOS\n",
        "# dados2 = pd.DataFrame(dados2, columns =['Data','kWh fornecido'])\n",
        "# dados2 = dados2.sort_values(by='Data')\n",
        "# dados2 = dados2.set_index('Data')\n",
        "# dados2['kWh fornecido'].astype(float)\n",
        "# dados2['kWh fornecido'].dtypes"
      ]
    },
    {
      "cell_type": "code",
      "execution_count": null,
      "metadata": {
        "colab": {
          "background_save": true
        },
        "id": "BkDgzaYFrfkE"
      },
      "outputs": [],
      "source": [
        "#Histograma dos dados\n",
        "hist1 = px.histogram(dados2, x = 'kWh fornecido', nbins = 60)  #Histograma kWh fornecido\n",
        "hist1.update_layout (width = 600, height = 400, title_text = 'Distribuição das Potências')\n",
        "hist1.show()"
      ]
    },
    {
      "cell_type": "code",
      "execution_count": null,
      "metadata": {
        "colab": {
          "background_save": true
        },
        "id": "zlgI-Ly9sNxJ"
      },
      "outputs": [],
      "source": [
        "#Curva de tendência dos dados\n",
        "sns.histplot(dados2, x='kWh fornecido', bins=30, color=\"orange\", kde=True, stat=\"count\");  # kde=true - plota linha de tendência da densidade"
      ]
    },
    {
      "cell_type": "code",
      "execution_count": null,
      "metadata": {
        "colab": {
          "background_save": true
        },
        "id": "CCW_7B4ssXv4"
      },
      "outputs": [],
      "source": [
        "#Boxplot - Visualização dos outliers\n",
        "px.box(dados2, y='kWh fornecido')"
      ]
    },
    {
      "cell_type": "code",
      "execution_count": null,
      "metadata": {
        "colab": {
          "background_save": true
        },
        "id": "AP5oy2krsf-x"
      },
      "outputs": [],
      "source": [
        "dados2['kWh fornecido'].astype(float)\n",
        "dados2.plot(figsize=(30,6),legend=True)  #Gráfico PJME_MW ao longo dos 16 anos\n",
        "\n",
        "plt.title('Perfil de Consumo de Energia EEAB DUAS UNAS - 2022')\n",
        "\n",
        "plt.show()"
      ]
    },
    {
      "cell_type": "code",
      "execution_count": null,
      "metadata": {
        "colab": {
          "background_save": true
        },
        "id": "KXRTw-cQVLhU"
      },
      "outputs": [],
      "source": [
        "dados2 = dados2.iloc[119:]\n",
        "dados2.head()"
      ]
    },
    {
      "cell_type": "code",
      "execution_count": null,
      "metadata": {
        "colab": {
          "background_save": true
        },
        "id": "trQabNBqUsaa"
      },
      "outputs": [],
      "source": [
        "somatorio = 0\n",
        "for i in range(len(dados2)-1):\n",
        "  if dados2['kWh fornecido'].iloc[i] < 750:\n",
        "    for j in range(24,0,-1):\n",
        "      somatorio += dados2['kWh fornecido'].iloc[i-j]\n",
        "      #print(dados2['kWh fornecido'].iloc[i]\n",
        "    dados2['kWh fornecido'].iloc[i] = somatorio/24\n",
        "    somatorio = 0"
      ]
    },
    {
      "cell_type": "code",
      "execution_count": null,
      "metadata": {
        "colab": {
          "background_save": true
        },
        "id": "Ep88XcDmWW4U"
      },
      "outputs": [],
      "source": [
        "dados2['kWh fornecido'].astype(float)\n",
        "dados2.plot(figsize=(30,6),legend=True, color = 'red')  #Gráfico PJME_MW ao longo dos 16 anos\n",
        "\n",
        "plt.title('Perfil de Consumo de Energia EEAB DUAS UNAS - 2022')\n",
        "plt.yticks(np.arange(0,1000,step=50))\n",
        "plt.ylim((750,1000))\n",
        "plt.show()"
      ]
    },
    {
      "cell_type": "markdown",
      "metadata": {
        "id": "E1yXXSWtDxuN"
      },
      "source": [
        "## **Normalização dos dados**\n",
        "\n",
        "\n"
      ]
    },
    {
      "cell_type": "code",
      "execution_count": null,
      "metadata": {
        "colab": {
          "background_save": true
        },
        "id": "YKC6e3Dz_1uK"
      },
      "outputs": [],
      "source": [
        "# Padronização MinMax\n",
        "#def padronizacao(dados):\n",
        "#  min = dados.min().iloc[0]\n",
        "#  max = dados.max().iloc[0]\n",
        "#  print(min)\n",
        "#  print(max)\n",
        "#  de_padr = []\n",
        "#  for i in range(len(dados)-1):\n",
        "#    valor = dados.iloc[i,0]\n",
        "#    valor = valor - min\n",
        "#    valor = valor/[max-min]\n",
        "#    de_padr.append(valor)\n",
        "\n",
        "#  return pd.DataFrame(de_padr)"
      ]
    },
    {
      "cell_type": "code",
      "execution_count": null,
      "metadata": {
        "colab": {
          "background_save": true
        },
        "id": "O_iAotUVQSJz"
      },
      "outputs": [],
      "source": [
        "from sklearn.preprocessing import MinMaxScaler\n",
        "\n",
        "def MinMax(dados):\n",
        "  scaler = MinMaxScaler()\n",
        "  scaled_data = scaler.fit_transform(dados)\n",
        "  return pd.DataFrame(scaled_data)\n"
      ]
    },
    {
      "cell_type": "code",
      "execution_count": null,
      "metadata": {
        "colab": {
          "background_save": true
        },
        "id": "OL0Bkbs3kK_2"
      },
      "outputs": [],
      "source": [
        "#Estatística dos dados AEP\n",
        "dados.describe()"
      ]
    },
    {
      "cell_type": "code",
      "execution_count": null,
      "metadata": {
        "colab": {
          "background_save": true
        },
        "id": "AAmP4Gavx90r"
      },
      "outputs": [],
      "source": [
        "df_AEP = MinMax(dados)"
      ]
    },
    {
      "cell_type": "code",
      "execution_count": null,
      "metadata": {
        "colab": {
          "background_save": true
        },
        "id": "rB4PBsjuJATR"
      },
      "outputs": [],
      "source": [
        "def plot_dadospadronizados(dados):\n",
        "  dados.plot(figsize=(30,6),color = 'red',legend=True)  #Gráfico PJME_MW ao longo dos 16 anos\n",
        "\n",
        "  plt.title('Perfil de Consumo de Energia EEAB DUAS UNAS - 2022')\n",
        "  plt.yticks(np.arange(0,1.1,step=0.1))\n",
        "  plt.show()"
      ]
    },
    {
      "cell_type": "code",
      "execution_count": null,
      "metadata": {
        "colab": {
          "background_save": true
        },
        "id": "4cbO_5etzdzZ"
      },
      "outputs": [],
      "source": [
        "plot_dadospadronizados(df_AEP)"
      ]
    },
    {
      "cell_type": "code",
      "execution_count": null,
      "metadata": {
        "colab": {
          "background_save": true
        },
        "id": "VjwD1_fOyjvT"
      },
      "outputs": [],
      "source": [
        "#Estatística dados Duas Unas\n",
        "dados2.describe()"
      ]
    },
    {
      "cell_type": "code",
      "execution_count": null,
      "metadata": {
        "colab": {
          "background_save": true
        },
        "id": "qRnwbYXVynQE"
      },
      "outputs": [],
      "source": [
        "df_DU = MinMax(dados2)"
      ]
    },
    {
      "cell_type": "code",
      "execution_count": null,
      "metadata": {
        "colab": {
          "background_save": true
        },
        "id": "f1z5CdW5YLv4"
      },
      "outputs": [],
      "source": [
        "df_DU.describe()"
      ]
    },
    {
      "cell_type": "code",
      "execution_count": null,
      "metadata": {
        "colab": {
          "background_save": true
        },
        "id": "PAzki8q-hkFS"
      },
      "outputs": [],
      "source": [
        "plot_dadospadronizados(df_DU)"
      ]
    },
    {
      "cell_type": "markdown",
      "metadata": {
        "id": "HfpKNPAr0-4V"
      },
      "source": [
        "## **Treino e Teste**"
      ]
    },
    {
      "cell_type": "code",
      "execution_count": null,
      "metadata": {
        "colab": {
          "background_save": true
        },
        "id": "um_YFWTFXZmm"
      },
      "outputs": [],
      "source": [
        "class attention(Layer):\n",
        "    #def __init__(self,**kwargs):\n",
        "    #   self.return_sequences = return_sequences\n",
        "    #   super(attention,self).__init__(**kwargs)\n",
        "\n",
        "    def __init__(self, return_sequences=True):\n",
        "        self.return_sequences = return_sequences\n",
        "        super(attention,self).__init__()\n",
        "\n",
        "# PESOS E BIAS\n",
        "    def build(self,input_shape):\n",
        "        self.W=self.add_weight(name=\"att_weight\",shape=(input_shape[-1],1),initializer=\"normal\") # Pesos\n",
        "        self.b=self.add_weight(name=\"att_bias\",shape=(input_shape[1],1),initializer=\"zeros\") # Bias\n",
        "        super(attention, self).build(input_shape)\n",
        "\n",
        "# VETOR DE CONTEXTO\n",
        "    def call(self,x):\n",
        "        et=K.squeeze(K.tanh(K.dot(x,self.W)+self.b),axis=-1) # Produto escalar entre pesos e entradas e soma com bias\n",
        "        at=K.softmax(et) # Normalização para que o somatório dos pesos seja = 1\n",
        "        at=K.expand_dims(at,axis=-1)\n",
        "        output=x*at # Saída (peso-at * entrada-x)\n",
        "        return K.sum(output,axis=1)\n",
        "\n",
        "    def compute_output_shape(self,input_shape):\n",
        "        return (input_shape[0],input_shape[-1])\n",
        "\n",
        "    def get_config(self):\n",
        "        return super(attention,self).get_config()"
      ]
    },
    {
      "cell_type": "code",
      "execution_count": null,
      "metadata": {
        "colab": {
          "background_save": true
        },
        "id": "nHtmHzpgn9k-"
      },
      "outputs": [],
      "source": [
        "def load_data(stock, seq_len,out_steps, perc_train, perc_test):  # stock == de_df     seq_len == 20\n",
        "    train = perc_train\n",
        "    test = perc_test\n",
        "    y_plot = []\n",
        "    X_train = []\n",
        "    y_train = []   #  20       145366\n",
        "    for i in range(seq_len, len(stock)- out_steps + 1):\n",
        "        X_train.append(stock.iloc[i-seq_len : i, 0])   # Cria, em cada posição de X_train, um vetor coluna [20,1] com as entradas de cada sequência\n",
        "        y_train.append(stock.iloc[i:i+out_steps, 0])   # Armazena, em cada posição de Y_train, o valor de saída (valor seguinte) correspondente à saída esperada\n",
        "        y_plot.append(stock.iloc[i,0])\n",
        "                                           # quando o vetor coluna [20,1] de mesma posição em X_train for adicionado à entrada\n",
        "    #1 last 25346 data are going to be used in test\n",
        "    X_test = X_train[round(train*len(stock)):len(stock)]   # [120000:] # Os vetores colunas das posições 120.000 - final serão utilizados como entrada na etapa de teste\n",
        "    y_test = y_train[round(train*len(stock)):len(stock)]   # [120000:] # Os valores nas posições 120.000 - final serão utilizados como saída na etapa de teste\n",
        "    y_plot = y_plot[round(train*len(stock)):len(stock)]\n",
        "\n",
        "    #2 first 120000 data are going to be used in training\n",
        "    X_train = X_train[:round(train*len(stock))]  # [:120000] # Os vetores colunas das posições 0 - 119.999 serão utilizados como entrada na etapa de treino\n",
        "    y_train = y_train[:round(train*len(stock))]  # [:120000] # Os valores nas posições 0 - 119.999 serão utilizados como saída na etapa de treino\n",
        "\n",
        "    #3 convert to numpy array\n",
        "    X_train = np.array(X_train)\n",
        "    y_train = np.array(y_train)\n",
        "\n",
        "    X_test = np.array(X_test)\n",
        "    y_test = np.array(y_test)\n",
        "    y_plot = np.array(y_plot)\n",
        "\n",
        "    #4 reshape data to input into RNN models\n",
        "                                 # 120000\n",
        "    X_train = np.reshape(X_train, (round(train*len(stock)), seq_len, 1))   #Reorganiza X_train e a transforma numa matriz [120000,20,1], sendo uma sequência por linha\n",
        "\n",
        "    X_test = np.reshape(X_test, (X_test.shape[0], seq_len, 1))   #Reorganiza X_teste e a transforma numa matriz [25346,20,1], sendo uma sequência por linha\n",
        "\n",
        "    return [X_train, y_train, X_test, y_test, y_plot]\n"
      ]
    },
    {
      "cell_type": "code",
      "execution_count": null,
      "metadata": {
        "colab": {
          "background_save": true
        },
        "id": "ZQ0__vhG92Uu"
      },
      "outputs": [],
      "source": [
        "seq_len = 20 #Comprimento da sequência       ????????\n",
        "out_steps = 1 #Comprimento do vetor de saída"
      ]
    },
    {
      "cell_type": "code",
      "execution_count": null,
      "metadata": {
        "colab": {
          "background_save": true
        },
        "id": "GKJByOiuHDmp"
      },
      "outputs": [],
      "source": [
        "#Train e Test Data dados AEP\n",
        "\n",
        "X_train_A, y_train_A, X_test_A, y_test_A, y_plot_A = load_data(df_AEP, seq_len, out_steps, 0.7, 0.3)   #Chama a função load_data\n",
        "\n",
        "print('X_train.shape = ',X_train_A.shape)   #Printa a dimensionalidade de X_train, y_train, X_test, y_test\n",
        "print('y_train.shape = ', y_train_A.shape)\n",
        "print('X_test.shape = ', X_test_A.shape)\n",
        "print('y_test.shape = ',y_test_A.shape)\n",
        "print('y_plot.shape = ',y_plot_A.shape)"
      ]
    },
    {
      "cell_type": "code",
      "execution_count": null,
      "metadata": {
        "colab": {
          "background_save": true
        },
        "id": "SDNfFZ2M28RK"
      },
      "outputs": [],
      "source": [
        "X_train_U, y_train_U, X_test_U, y_test_U, y_plot_U = load_data(df_DU, seq_len, out_steps, 0.7, 0.3)   #Chama a função load_data\n",
        "\n",
        "print('X_train.shape = ',X_train_U.shape)   #Printa a dimensionalidade de X_train, y_train, X_test, y_test\n",
        "print('y_train.shape = ', y_train_U.shape)\n",
        "print('X_test.shape = ', X_test_U.shape)\n",
        "print('y_test.shape = ',y_test_U.shape)\n",
        "print('y_plot.shape = ',y_plot_U.shape)"
      ]
    },
    {
      "cell_type": "code",
      "execution_count": null,
      "metadata": {
        "colab": {
          "background_save": true
        },
        "id": "ziaSKXqvP9BC"
      },
      "outputs": [],
      "source": [
        "import numpy as np\n",
        "\n",
        "# Verificando se nos dados de entrada e saída há NaN ou infinitos\n",
        "print(np.any(np.isnan(X_train_U)), np.any(np.isnan(y_train_U)))\n",
        "print(np.any(np.isinf(X_train_U)), np.any(np.isinf(y_train_U)))\n",
        "\n",
        "print(np.any(np.isnan(X_test_U)), np.any(np.isnan(y_test_U)))\n",
        "print(np.any(np.isinf(X_test_U)), np.any(np.isinf(y_test_U)))"
      ]
    },
    {
      "cell_type": "code",
      "execution_count": null,
      "metadata": {
        "colab": {
          "background_save": true
        },
        "id": "5gmTEH3MHPj5"
      },
      "outputs": [],
      "source": [
        "#   ETAPA DE MODELAGEM DA REDE LSTM\n",
        "\n",
        "# Busca de hiperparâmetros (random search)\n",
        "\n",
        "lstm_model = Sequential()   # Modo sequencial - saída de uma camada é aplicada na entrada da seguinte\n",
        "      #       (Dimensionalidade da saída, função de ativação, deve retornar a última saída na saída, dimensionalidade da entrada (20,1)\n",
        "\n",
        "#Saulo não define a função de ativação. Default: hyperbolic tangent (tanh)\n",
        "\n",
        "                                                          #X_train.shape[1]\n",
        "lstm_model.add(LSTM(100,return_sequences=True, input_shape=(seq_len,1))) # Apenas a primeira camada informa input_shape. As demais fazem inferência\n",
        "lstm_model.add(Dropout(0.3)) # Taxa de atenuação aplicada à saída para evitar overfitting - Elimina aleatoriamente alguns neurônios\n",
        "\n",
        "lstm_model.add(LSTM(100,return_sequences=True))\n",
        "lstm_model.add(Dropout(0.3))\n",
        "\n",
        "lstm_model.add(LSTM(100,return_sequences=False)) #Anteriormente era FALSE. Foi alterado devido à adição da camada Attention\n",
        "lstm_model.add(Dropout(0.3))\n",
        "\n",
        "# ATTENTION #\n",
        "#lstm_model.add(attention(return_sequences=False))\n",
        "\n",
        "lstm_model.add(Dense(1)) # Dense - Camada totalmente conectada com dimensionalidade de saída igual a 1\n",
        "\n",
        "lstm_model.summary() # Printa um sumário da rede"
      ]
    },
    {
      "cell_type": "code",
      "execution_count": null,
      "metadata": {
        "colab": {
          "background_save": true
        },
        "id": "GfQrQ_9_pA--"
      },
      "outputs": [],
      "source": [
        "from tensorflow.keras import backend as K\n",
        "\n",
        "def rmse(y_true, y_pred):\n",
        "    mse = K.mean(K.square(y_pred - y_true), axis=-1)\n",
        "    return K.sqrt(mse)"
      ]
    },
    {
      "cell_type": "code",
      "execution_count": null,
      "metadata": {
        "colab": {
          "background_save": true
        },
        "id": "Jz1ABakQHSbQ"
      },
      "outputs": [],
      "source": [
        "#    ETAPA DE TREINAMENTO\n",
        "#   Configuração do modelo para treinamento\n",
        "def treinamento(modelo, X_treino,Y_treino,l_r,batch,paciencia):\n",
        "\n",
        "    modelo.compile(optimizer=keras.optimizers.Adam(learning_rate=l_r),loss=\"MSE\")\n",
        "    # optmizer - função que define como os pesos da rede neural são atualizados\n",
        "    # adam - método estocástico do gradiente descendente\n",
        "    # loss - função de calcula a diferença entre os dados de teste e os dados de validação\n",
        "    # MSE - erro quadrático médio\n",
        "    # Learning rate - PESQUISAR\n",
        "\n",
        "    # callbacks = tf.keras.callbacks.EarlyStopping(monitor='loss', patience=3)\n",
        "    # = EarlyStopping(monitor='val_loss', verbose=1), patience=50\n",
        "                                               #batch_size=500                                                                                             #patience=15\n",
        "    history = modelo.fit(X_treino, Y_treino, epochs=100000, batch_size=batch, validation_split=0.3, callbacks = tf.keras.callbacks.EarlyStopping(monitor='loss', verbose=1, patience=paciencia))   #Treinamento do modelo\n",
        "    #             (Entrada; saída; ciclos de treinamento com todos os dados; tamanho do lote (1000) que, ao dividir o tamanho da (120.000),\n",
        "    #              define a quantidade de etapas por ciclo. Após cada etapa, os pesos são atualizados para a próxima etapa.\n",
        "\n",
        "    # Plotar as perdas de treinamento e validação\n",
        "    plt.plot(history.history['loss'], label='Loss de Treinamento')\n",
        "    plt.plot(history.history['val_loss'], label='Loss de Validação')\n",
        "    plt.xlabel('Épocas')\n",
        "    plt.ylabel('Perda')\n",
        "    plt.legend()\n",
        "    plt.show()"
      ]
    },
    {
      "cell_type": "code",
      "execution_count": null,
      "metadata": {
        "colab": {
          "background_save": true
        },
        "id": "8Sqf9D4SKist"
      },
      "outputs": [],
      "source": [
        "def testes(modelo,X_test,y_test):\n",
        "\n",
        "  from sklearn.model_selection import cross_val_score\n",
        "  from sklearn.metrics import r2_score\n",
        "  from sklearn.metrics import mean_absolute_error\n",
        "  from sklearn.metrics import mean_squared_error\n",
        "  from sklearn.metrics import mean_absolute_percentage_error\n",
        "\n",
        "  lstm_predictions_testes = modelo.predict(X_test)  # Gera as previsões de saída para as entradas X_test\n",
        "\n",
        "  lstm_predictions_testes = np.array(lstm_predictions_testes)\n",
        "  y_test = np.array(y_test)\n",
        "\n",
        "\n",
        "#lstm_predictions_valor_real = normal.inverse_transform(lstm_predictions)\n",
        "\n",
        "#print(\"Valor real previsto (kWh): \",lstm_predictions_valor_real)\n",
        "\n",
        "  lstm_score = r2_score(y_test, lstm_predictions_testes)   # Relacionado à regressão linear dos valores verdadeiros. É calculado com base no erro quadrático residual e erro total. O valor pode ser interpretado como a proporção dos valores previstos que estão na linha criada pela regressão.\n",
        "  print(\"R^2 Score of LSTM model = \",lstm_score)\n",
        "  print(\" \")\n",
        "\n",
        "  lstm_score2 = mean_absolute_error(y_test, lstm_predictions_testes)\n",
        "  print(\"MAE(Erro absoluto médio) Score of LSTM model = \",lstm_score2)\n",
        "  print(\" \")\n",
        "\n",
        "  lstm_score3 = mean_squared_error(y_test, lstm_predictions_testes)\n",
        "  print(\"MSE(Erro quadrático médio) Score of LSTM model = \",lstm_score3)\n",
        "  print(\" \")\n",
        "\n",
        "  #lstm_score4 = mean_absolute_percentage_error(y_test, lstm_predictions_testes)\n",
        "  #print(\"MAPE(Erro percentual médio absoluto) Score of LSTM model = \",lstm_score4)\n",
        "\n",
        "  mape = np.mean(np.abs((y_test - lstm_predictions_testes) / y_test)) * 100\n",
        "\n",
        "  print(f\"MAPE(Erro percentual médio absoluto) Score of LSTM model = {mape}%\")\n",
        "\n",
        "#lstm_score5 = cross_val_score(lstm_model, X_test, y_test, cv=3, scoring='neg_mean_squared_error')\n",
        "#print(\"MSE(Erro quadrático médio) Score of LSTM model com cross-validation 3 = \",lstm_score5)\n",
        "  return lstm_predictions_testes"
      ]
    },
    {
      "cell_type": "code",
      "execution_count": null,
      "metadata": {
        "colab": {
          "background_save": true
        },
        "id": "CGyiMjcsK9eU"
      },
      "outputs": [],
      "source": [
        "def plot_predictions_univar(test, predicted, title):\n",
        "    plt.figure(figsize=(100,40))\n",
        "    plt.grid(True)\n",
        "    plt.yticks(np.arange(0,750,step=50))\n",
        "    plt.plot(test, color='blue',label='Actual power consumption data') #Plota y_test\n",
        "    plt.plot(predicted, alpha=0.7, color='red',label='Predicted power consumption data') #Plota Y previsto\n",
        "    plt.title(title)\n",
        "    plt.xlabel('Time')\n",
        "    plt.ylabel('Normalized power consumption scale')\n",
        "    plt.legend()\n",
        "    plt.show()"
      ]
    },
    {
      "cell_type": "code",
      "execution_count": null,
      "metadata": {
        "colab": {
          "background_save": true
        },
        "id": "gK8KTSUJP-N5"
      },
      "outputs": [],
      "source": [
        "#Pré-treinamento com dados AEP\n",
        "#treinamento(lstm_model,X_train_A,y_train_A,0.001,500,5)"
      ]
    },
    {
      "cell_type": "code",
      "execution_count": null,
      "metadata": {
        "colab": {
          "background_save": true
        },
        "id": "brRZxbQNzLTW"
      },
      "outputs": [],
      "source": [
        "#pesos_treinamento1 = lstm_model.get_weights()\n",
        "#pesos_LSTM1_t1 = lstm_model.get_layer(name='lstm').get_weights()\n",
        "#pesos_LSTM2_t1 = lstm_model.get_layer(name='lstm_1').get_weights()\n",
        "#pesos_LSTM3_t1 = lstm_model.get_layer(name='lstm_2').get_weights()"
      ]
    },
    {
      "cell_type": "code",
      "execution_count": null,
      "metadata": {
        "colab": {
          "background_save": true
        },
        "id": "49m_1EY649wm"
      },
      "outputs": [],
      "source": [
        "#np.savez('/content/drive/MyDrive/Mestrado/Cursos/Machine Learning com Python/TensorFlow/Dados_Energia/Modelo/pesos_LSTM1_t1.npz',W=pesos_LSTM1_t1[0], U=pesos_LSTM1_t1[1], b=pesos_LSTM1_t1[2])\n",
        "#np.savez('/content/drive/MyDrive/Mestrado/Cursos/Machine Learning com Python/TensorFlow/Dados_Energia/Modelo/pesos_LSTM2_t1.npz',W=pesos_LSTM2_t1[0], U=pesos_LSTM2_t1[1], b=pesos_LSTM2_t1[2])\n",
        "#np.savez('/content/drive/MyDrive/Mestrado/Cursos/Machine Learning com Python/TensorFlow/Dados_Energia/Modelo/pesos_LSTM3_t1.npz',W=pesos_LSTM3_t1[0], U=pesos_LSTM3_t1[1], b=pesos_LSTM3_t1[2])"
      ]
    },
    {
      "cell_type": "code",
      "execution_count": null,
      "metadata": {
        "colab": {
          "background_save": true
        },
        "id": "FFul3e5SmkhE"
      },
      "outputs": [],
      "source": [
        "#lstm_model.save('lstm_model_HOJE.keras')"
      ]
    },
    {
      "cell_type": "code",
      "execution_count": null,
      "metadata": {
        "colab": {
          "background_save": true
        },
        "id": "549J-6SIKblN"
      },
      "outputs": [],
      "source": [
        "#lstm_model.save('/content/drive/MyDrive/Mestrado/Cursos/Machine Learning com Python/TensorFlow/Dados_Energia/Modelo/lstm_model_HOJE')"
      ]
    },
    {
      "cell_type": "code",
      "execution_count": null,
      "metadata": {
        "colab": {
          "background_save": true
        },
        "id": "TG3b17sEQrCp"
      },
      "outputs": [],
      "source": [
        "#lstm_model.save('/content/drive/MyDrive/Mestrado/Cursos/Machine Learning com Python/TensorFlow/Dados_Energia/Modelo/lstm_model_HOJE.keras')"
      ]
    },
    {
      "cell_type": "code",
      "execution_count": null,
      "metadata": {
        "colab": {
          "background_save": true
        },
        "id": "IzzH3n308YPA"
      },
      "outputs": [],
      "source": [
        "#Testes com os dados AEP\n",
        "#teste = testes(lstm_model,X_test_A,y_test_A)"
      ]
    },
    {
      "cell_type": "code",
      "execution_count": null,
      "metadata": {
        "colab": {
          "background_save": true
        },
        "id": "_51_PGlG8qja"
      },
      "outputs": [],
      "source": [
        "#Gráfico comparativo dos valores previstos e reais AEP\n",
        "#plot_predictions_univar(y_test_A, teste,\"Predições para os dados AEP\")"
      ]
    },
    {
      "cell_type": "code",
      "execution_count": null,
      "metadata": {
        "colab": {
          "background_save": true
        },
        "id": "KvyfVkPMnUHQ"
      },
      "outputs": [],
      "source": [
        "#pesos_LSTM1 = keras.models.load_model('/content/drive/MyDrive/Mestrado/Cursos/Machine Learning com Python/TensorFlow/Dados_Energia/Modelo/pesos_LSTM1_t1.npz')\n",
        "#pesos_LSTM2 = keras.models.load_model('/content/drive/MyDrive/Mestrado/Cursos/Machine Learning com Python/TensorFlow/Dados_Energia/Modelo/pesos_LSTM2_t1.npz')\n",
        "#pesos_LSTM3 = keras.models.load_model('/content/drive/MyDrive/Mestrado/Cursos/Machine Learning com Python/TensorFlow/Dados_Energia/Modelo/pesos_LSTM3_t1.npz')"
      ]
    },
    {
      "cell_type": "code",
      "execution_count": null,
      "metadata": {
        "colab": {
          "background_save": true
        },
        "id": "4p450JAqMlOj"
      },
      "outputs": [],
      "source": [
        "caminho_LSTM1 = '/content/drive/MyDrive/Mestrado/Cursos/Machine Learning com Python/TensorFlow/Dados_Energia/Modelo/pesos_LSTM1_t1.npz'\n",
        "caminho_LSTM2 = '/content/drive/MyDrive/Mestrado/Cursos/Machine Learning com Python/TensorFlow/Dados_Energia/Modelo/pesos_LSTM2_t1.npz'\n",
        "caminho_LSTM3 = '/content/drive/MyDrive/Mestrado/Cursos/Machine Learning com Python/TensorFlow/Dados_Energia/Modelo/pesos_LSTM3_t1.npz'"
      ]
    },
    {
      "cell_type": "code",
      "execution_count": null,
      "metadata": {
        "colab": {
          "background_save": true
        },
        "id": "bPvBlrv63C48"
      },
      "outputs": [],
      "source": [
        "# Carregar os pesos salvos\n",
        "def carregar_pesos(arquivo_pesos_camada):\n",
        "\n",
        "  with np.load(arquivo_pesos_camada) as data:\n",
        "      W = data['W']\n",
        "      U = data['U']\n",
        "      b = data['b']\n",
        "      # Os pesos podem ter mais de um conjunto, então você deve garantir que a ordem e o número estejam corretos.\n",
        "      loaded_weights = [W, U, b]\n",
        "  return loaded_weights"
      ]
    },
    {
      "cell_type": "code",
      "execution_count": null,
      "metadata": {
        "colab": {
          "background_save": true
        },
        "id": "ELZBwSGQNVsz"
      },
      "outputs": [],
      "source": [
        "pesos_LSTM1_t1_carregado = carregar_pesos(caminho_LSTM1)\n",
        "pesos_LSTM2_t1_carregado = carregar_pesos(caminho_LSTM2)\n",
        "pesos_LSTM3_t1_carregado = carregar_pesos(caminho_LSTM3)"
      ]
    },
    {
      "cell_type": "code",
      "execution_count": null,
      "metadata": {
        "colab": {
          "background_save": true
        },
        "id": "ni59F-PvzoNG"
      },
      "outputs": [],
      "source": [
        "def comparar_pesos(lista1, lista2):\n",
        "  \"\"\"\n",
        "  Compares two lists of NumPy arrays for equality.\n",
        "\n",
        "  Args:\n",
        "    lista1: The first list of NumPy arrays.\n",
        "    lista2: The second list of NumPy arrays.\n",
        "\n",
        "  Returns:\n",
        "    True if all corresponding arrays in the lists are equal, False otherwise.\n",
        "  \"\"\"\n",
        "  if len(lista1) != len(lista2):\n",
        "    return False\n",
        "  for i in range(len(lista1)):\n",
        "    if not np.array_equal(lista1[i], lista2[i]):\n",
        "      return False\n",
        "  return True\n",
        "\n",
        "# # Now you can compare the lists like this:\n",
        "# sao_iguais = comparar_pesos(pesos_LSTM1_t1, pesos_LSTM1_t1_carregado)\n",
        "# print(sao_iguais)  # This will print True or False"
      ]
    },
    {
      "cell_type": "code",
      "execution_count": null,
      "metadata": {
        "colab": {
          "background_save": true
        },
        "id": "mPOq3b1qPRJm"
      },
      "outputs": [],
      "source": [
        "#print(comparar_pesos(pesos_LSTM1_t1, pesos_LSTM1_t1_carregado))\n",
        "#print(comparar_pesos(pesos_LSTM2_t1, pesos_LSTM2_t1_carregado))\n",
        "#print(comparar_pesos(pesos_LSTM3_t1, pesos_LSTM3_t1_carregado))"
      ]
    },
    {
      "cell_type": "code",
      "execution_count": null,
      "metadata": {
        "colab": {
          "background_save": true
        },
        "id": "S1TM-1-kP7KF"
      },
      "outputs": [],
      "source": [
        "#   ETAPA DE MODELAGEM DA REDE LSTM\n",
        "from tensorflow.keras.initializers import GlorotUniform    #Inicializador de pesos\n",
        "from keras.regularizers import l1_l2\n",
        "\n",
        "lstm_model_treinado = Sequential()   # Modo sequencial - saída de uma camada é aplicada na entrada da seguinte\n",
        "      #       (Dimensionalidade da saída, função de ativação, deve retornar a última saída na saída, dimensionalidade da entrada (20,1)\n",
        "\n",
        "#Saulo não define a função de ativação. Default: hyperbolic tangent (tanh)\n",
        "\n",
        "                                                          #X_train.shape[1]\n",
        "lstm_model_treinado.add(LSTM(100,return_sequences=True, input_shape=(seq_len,1),name='lstm_1',activation = 'tanh')) #, kernel_regularizer=l1_l2(l1=0.01, l2=0.01))) # Apenas a primeira camada informa input_shape. As demais fazem inferência\n",
        "lstm_model_treinado.add(Dropout(0.2)) # Taxa de atenuação aplicada à saída para evitar overfitting - Elimina aleatoriamente alguns neurônios\n",
        "\n",
        "lstm_model_treinado.add(LSTM(100,return_sequences=True,name='lstm_2',activation = 'tanh')) #, kernel_regularizer=l1_l2(l1=0.01, l2=0.01)))\n",
        "lstm_model_treinado.add(Dropout(0.2))\n",
        "\n",
        "lstm_model_treinado.add(LSTM(100,return_sequences=False,\n",
        "                             kernel_initializer=GlorotUniform(),  # Inicializador para os pesos\n",
        "                             recurrent_initializer=GlorotUniform(),  # Inicializador para os pesos recorrentes\n",
        "                             bias_initializer=GlorotUniform(),name='lstm_3',activation = 'tanh'))  # Inicializador para os biases)) #Anteriormente era FALSE. Foi alterado devido à adição da camada Attention\n",
        "                             #kernel_regularizer=l1_l2(l1=0.01, l2=0.01)))\n",
        "lstm_model_treinado.add(Dropout(0.2))\n",
        "\n",
        "# ATTENTION #\n",
        "#lstm_model.add(attention(return_sequences=False))\n",
        "\n",
        "lstm_model_treinado.add(Dense(out_steps,\n",
        "                        kernel_initializer=GlorotUniform(),  # Inicializador para os pesos\n",
        "                        bias_initializer=GlorotUniform(),  # Inicializador para os biases\n",
        "                        name='dense_layer')) # Dense - Camada totalmente conectada com dimensionalidade de saída igual a 1\n",
        "\n",
        "lstm_model_treinado.summary() # Printa um sumário da rede"
      ]
    },
    {
      "cell_type": "code",
      "execution_count": null,
      "metadata": {
        "colab": {
          "background_save": true
        },
        "id": "RarVKCEeNT3S"
      },
      "outputs": [],
      "source": [
        "  # Aplicar os pesos carregados à camada LSTM\n",
        "lstm_model_treinado.get_layer(name='lstm_1').set_weights(pesos_LSTM1_t1_carregado)\n",
        "lstm_model_treinado.get_layer(name='lstm_2').set_weights(pesos_LSTM2_t1_carregado)"
      ]
    },
    {
      "cell_type": "code",
      "execution_count": null,
      "metadata": {
        "colab": {
          "background_save": true
        },
        "id": "mxtxZEZIYQrk"
      },
      "outputs": [],
      "source": [
        "# Congela as duas primeiras camadas LSTM e suas respectivas camadas dropout subsequentes\n",
        "\n",
        "#lstm_model_treinado.layers[2] - Mostra o tipo da camada 2 do modelo\n",
        "lstm_model_treinado.layers[0].trainable = False\n",
        "lstm_model_treinado.layers[1].trainable = False\n",
        "lstm_model_treinado.layers[2].trainable = False\n",
        "lstm_model_treinado.layers[3].trainable = False\n",
        "print(lstm_model_treinado.layers[0].trainable)\n",
        "print(lstm_model_treinado.layers[0].trainable)"
      ]
    },
    {
      "cell_type": "code",
      "execution_count": null,
      "metadata": {
        "colab": {
          "background_save": true
        },
        "id": "gUfT8NmW7hX1"
      },
      "outputs": [],
      "source": [
        "#Treinamento com dados Duas Unas - Camadas Congeladas\n",
        "treinamento(lstm_model_treinado,X_train_U,y_train_U,0.0001,200,2)"
      ]
    },
    {
      "cell_type": "code",
      "execution_count": null,
      "metadata": {
        "colab": {
          "background_save": true
        },
        "id": "jBsYxbRodehW"
      },
      "outputs": [],
      "source": [
        "# Congela as duas primeiras camadas LSTM e suas respectivas camadas dropout subsequentes\n",
        "\n",
        "#lstm_model_treinado.layers[2] - Mostra o tipo da camada 2 do modelo\n",
        "lstm_model_treinado.layers[0].trainable = True\n",
        "lstm_model_treinado.layers[1].trainable = True\n",
        "lstm_model_treinado.layers[2].trainable = True\n",
        "lstm_model_treinado.layers[3].trainable = True\n",
        "lstm_model_treinado.layers[2].trainable"
      ]
    },
    {
      "cell_type": "code",
      "execution_count": null,
      "metadata": {
        "colab": {
          "background_save": true
        },
        "id": "Undr_6NVfkKG"
      },
      "outputs": [],
      "source": [
        "lstm_model_final = lstm_model_treinado"
      ]
    },
    {
      "cell_type": "code",
      "execution_count": null,
      "metadata": {
        "colab": {
          "background_save": true
        },
        "id": "aiaNotsidrk_"
      },
      "outputs": [],
      "source": [
        "#Treinamento com dados Duas Unas - Camadas Descongeladas\n",
        "treinamento(lstm_model_final,X_train_U,y_train_U,0.0001,200,2)"
      ]
    },
    {
      "cell_type": "code",
      "execution_count": null,
      "metadata": {
        "colab": {
          "background_save": true
        },
        "id": "ctL26LXK9Tcc"
      },
      "outputs": [],
      "source": [
        "#Testes com os dados Duas Unas\n",
        "teste2 = testes(lstm_model_final, X_test_U,y_test_U)"
      ]
    },
    {
      "cell_type": "code",
      "execution_count": null,
      "metadata": {
        "colab": {
          "background_save": true
        },
        "id": "PPlH90wR9ZR8"
      },
      "outputs": [],
      "source": [
        "#Gráfico comparativo dos valores previstos e reais Duas Unas\n",
        "plot_predictions_univar(y_test_U, teste2,\"Predições para os dados Duas Unas\")"
      ]
    },
    {
      "cell_type": "code",
      "execution_count": null,
      "metadata": {
        "colab": {
          "background_save": true
        },
        "id": "yHM3i-cMTl76"
      },
      "outputs": [],
      "source": [
        "def sequencia_completa(modelo,janela_entrada,janela_futuro,prediction):\n",
        "    print(janela_entrada)\n",
        "    for i in range(janela_futuro):\n",
        "        print(janela_entrada[np.newaxis,:,:].shape)\n",
        "        prediction.append(modelo.predict(janela_entrada[np.newaxis,:,:])[0,0]) #np.newaxis adiciona uma nova dimensão à janela_entrada, que se torna (1,n,1)\n",
        "        print(prediction[-1])\n",
        "        janela_entrada = janela_entrada[1:]\n",
        "        janela_entrada = np.insert(janela_entrada, (janela_entrada.shape[0]), prediction[-1], axis=0)\n",
        "        #print(janela[-1])\n",
        "        print(janela_entrada)\n",
        "    return prediction"
      ]
    },
    {
      "cell_type": "code",
      "execution_count": null,
      "metadata": {
        "colab": {
          "background_save": true
        },
        "id": "EK3ZHpUotR43"
      },
      "outputs": [],
      "source": [
        "# prediction = []\n",
        "# janela_futuro = 720\n",
        "# prediction = sequencia_completa(lstm_model_final,X_test_U[0],janela_futuro,prediction)"
      ]
    },
    {
      "cell_type": "code",
      "execution_count": null,
      "metadata": {
        "colab": {
          "background_save": true
        },
        "id": "rIpdvOrrc0au"
      },
      "outputs": [],
      "source": [
        "# Plot history and future\n",
        "def plot_multistep(history, prediction1 , groundtruth):\n",
        "    plt.figure(figsize=(20, 4))\n",
        "    #y_mean = mean(prediction1)\n",
        "    range_history = len(history)\n",
        "    range_future = list(range(range_history, range_history + len(prediction1)))\n",
        "    plt.plot(np.arange(range_history), np.array(history), label='History')\n",
        "    plt.plot(range_future, np.array(prediction1),label='Forecasted with LSTM')\n",
        "    plt.plot(range_future, np.array(groundtruth),label='GroundTruth')\n",
        "    plt.legend(loc='upper right')\n",
        "    #plt.title(\"Test Data from {} to {} , Mean = {:.2f}\".format(start, end, y_mean) ,  fontsize=18)\n",
        "    plt.xlabel('Time step' ,  fontsize=18)\n",
        "    plt.ylabel('y-value' , fontsize=18)\n",
        "    #plt.yticks(np.arange(0,1000,step=50))"
      ]
    },
    {
      "cell_type": "code",
      "execution_count": null,
      "metadata": {
        "colab": {
          "background_save": true
        },
        "id": "CUj4azuJc4NS"
      },
      "outputs": [],
      "source": [
        "#plot_multistep(X_test_U[0],prediction,y_plot_U[:janela_futuro])"
      ]
    },
    {
      "cell_type": "code",
      "execution_count": null,
      "metadata": {
        "colab": {
          "background_save": true
        },
        "id": "wD0qQn6ovMPc"
      },
      "outputs": [],
      "source": [
        "lstm_model_final.save('/content/drive/MyDrive/Mestrado/Cursos/Machine Learning com Python/TensorFlow/Dados_Energia/Modelo/Duas Unas com filtro/lstm_model_treinado_etapa2(11_09_24).keras')"
      ]
    },
    {
      "cell_type": "code",
      "execution_count": null,
      "metadata": {
        "colab": {
          "background_save": true
        },
        "id": "y0981W7wZDRB"
      },
      "outputs": [],
      "source": [
        "from tensorflow.keras.models import load_model\n",
        "\n",
        "# Caminho para o arquivo do modelo salvo no Google Drive\n",
        "model_path = '/content/drive/MyDrive/Mestrado/Cursos/Machine Learning com Python/TensorFlow/Dados_Energia/Modelo/Duas Unas com filtro/lstm_model_treinado_etapa2(11_09_24).keras'\n",
        "\n",
        "# Carregar o modelo\n",
        "model = load_model(model_path)\n",
        "\n",
        "# Verificar a arquitetura do modelo\n",
        "model.summary()"
      ]
    },
    {
      "cell_type": "code",
      "execution_count": null,
      "metadata": {
        "colab": {
          "background_save": true
        },
        "id": "44FD3DoBBjVK"
      },
      "outputs": [],
      "source": [
        "lstm_model_final.get_layer(name='lstm_1').get_weights()\n",
        "model.get_layer(name='lstm_1').get_weights()\n",
        "print(comparar_pesos(lstm_model_final.get_layer(name='lstm_1').get_weights(), model.get_layer(name='lstm_1').get_weights()))\n",
        "print(comparar_pesos(lstm_model_final.get_layer(name='lstm_2').get_weights(), model.get_layer(name='lstm_2').get_weights()))\n",
        "print(comparar_pesos(lstm_model_final.get_layer(name='lstm_3').get_weights(), model.get_layer(name='lstm_3').get_weights()))"
      ]
    },
    {
      "cell_type": "code",
      "execution_count": null,
      "metadata": {
        "colab": {
          "background_save": true
        },
        "id": "Hg6UpwFcvKF1"
      },
      "outputs": [],
      "source": [
        "X_test_U[0].shape"
      ]
    },
    {
      "cell_type": "code",
      "execution_count": null,
      "metadata": {
        "colab": {
          "background_save": true
        },
        "id": "agvQ-rB3Etdr"
      },
      "outputs": [],
      "source": [
        "prediction_multi_1 = []\n",
        "janela = X_test_U[0]\n",
        "janela_futuro_1 = 240 #2160\n",
        "#print(janela.shape)\n",
        "prediction_multi_1.append(model.predict(janela[np.newaxis,:,:])[0,0])\n",
        "print(prediction_multi_1)\n",
        "janela = janela[1:]\n",
        "janela = np.insert(janela, (janela.shape[0]), model.predict(janela[np.newaxis,:,:])[0,0], axis=0)\n",
        "prediction_multi_1.append(model.predict(janela[np.newaxis,:,:])[0,0])\n",
        "print(prediction_multi_1)\n",
        "janela = janela[1:]\n",
        "janela = np.insert(janela, (janela.shape[0]), model.predict(janela[np.newaxis,:,:])[0,0], axis=0)\n",
        "prediction_multi_1.append(model.predict(janela[np.newaxis,:,:])[0,0])\n",
        "print(prediction_multi_1)\n",
        "janela = janela[1:]\n",
        "janela = np.insert(janela, (janela.shape[0]), model.predict(janela[np.newaxis,:,:])[0,0], axis=0)\n",
        "prediction_multi_1.append(model.predict(janela[np.newaxis,:,:])[0,0])\n",
        "print(prediction_multi_1)\n",
        "janela = janela[1:]\n",
        "janela = np.insert(janela, (janela.shape[0]), model.predict(janela[np.newaxis,:,:])[0,0], axis=0)\n",
        "prediction_multi_1.append(model.predict(janela[np.newaxis,:,:])[0,0])\n",
        "print(prediction_multi_1)\n",
        "janela = janela[1:]\n",
        "janela = np.insert(janela, (janela.shape[0]), model.predict(janela[np.newaxis,:,:])[0,0], axis=0)\n",
        "prediction_multi_1.append(model.predict(janela[np.newaxis,:,:])[0,0])\n",
        "print(prediction_multi_1)\n",
        "janela = janela[1:]\n",
        "janela = np.insert(janela, (janela.shape[0]), model.predict(janela[np.newaxis,:,:])[0,0], axis=0)\n",
        "prediction_multi_1.append(model.predict(janela[np.newaxis,:,:])[0,0])\n",
        "print(prediction_multi_1)\n",
        "janela = janela[1:]\n",
        "janela = np.insert(janela, (janela.shape[0]), model.predict(janela[np.newaxis,:,:])[0,0], axis=0)\n",
        "prediction_multi_1.append(model.predict(janela[np.newaxis,:,:])[0,0])\n",
        "print(prediction_multi_1)\n",
        "janela = janela[1:]\n",
        "janela = np.insert(janela, (janela.shape[0]), model.predict(janela[np.newaxis,:,:])[0,0], axis=0)\n",
        "prediction_multi_1.append(model.predict(janela[np.newaxis,:,:])[0,0])\n",
        "print(prediction_multi_1)\n",
        "janela = janela[1:]\n",
        "janela = np.insert(janela, (janela.shape[0]), model.predict(janela[np.newaxis,:,:])[0,0], axis=0)\n",
        "prediction_multi_1.append(model.predict(janela[np.newaxis,:,:])[0,0])\n",
        "print(prediction_multi_1)\n",
        "janela = janela[1:]\n",
        "janela = np.insert(janela, (janela.shape[0]), model.predict(janela[np.newaxis,:,:])[0,0], axis=0)\n",
        "prediction_multi_1.append(model.predict(janela[np.newaxis,:,:])[0,0])\n",
        "print(prediction_multi_1)\n",
        "janela = janela[1:]\n",
        "janela = np.insert(janela, (janela.shape[0]), model.predict(janela[np.newaxis,:,:])[0,0], axis=0)\n",
        "prediction_multi_1.append(model.predict(janela[np.newaxis,:,:])[0,0])\n",
        "print(prediction_multi_1)\n",
        "janela = janela[1:]\n",
        "janela = np.insert(janela, (janela.shape[0]), model.predict(janela[np.newaxis,:,:])[0,0], axis=0)\n",
        "prediction_multi_1.append(model.predict(janela[np.newaxis,:,:])[0,0])\n",
        "print(prediction_multi_1)\n",
        "janela = janela[1:]\n",
        "janela = np.insert(janela, (janela.shape[0]), model.predict(janela[np.newaxis,:,:])[0,0], axis=0)\n",
        "prediction_multi_1.append(model.predict(janela[np.newaxis,:,:])[0,0])\n",
        "print(prediction_multi_1)\n",
        "janela = janela[1:]\n",
        "janela = np.insert(janela, (janela.shape[0]), model.predict(janela[np.newaxis,:,:])[0,0], axis=0)\n",
        "prediction_multi_1.append(model.predict(janela[np.newaxis,:,:])[0,0])\n",
        "print(prediction_multi_1)\n",
        "janela = janela[1:]\n",
        "janela = np.insert(janela, (janela.shape[0]), model.predict(janela[np.newaxis,:,:])[0,0], axis=0)\n",
        "prediction_multi_1.append(model.predict(janela[np.newaxis,:,:])[0,0])\n",
        "print(prediction_multi_1)\n",
        "janela = janela[1:]\n",
        "janela = np.insert(janela, (janela.shape[0]), model.predict(janela[np.newaxis,:,:])[0,0], axis=0)\n",
        "prediction_multi_1.append(model.predict(janela[np.newaxis,:,:])[0,0])\n",
        "print(prediction_multi_1)\n",
        "janela = janela[1:]\n",
        "janela = np.insert(janela, (janela.shape[0]), model.predict(janela[np.newaxis,:,:])[0,0], axis=0)\n",
        "prediction_multi_1.append(model.predict(janela[np.newaxis,:,:])[0,0])\n",
        "print(prediction_multi_1)\n",
        "janela = janela[1:]\n",
        "janela = np.insert(janela, (janela.shape[0]), model.predict(janela[np.newaxis,:,:])[0,0], axis=0)\n",
        "prediction_multi_1.append(model.predict(janela[np.newaxis,:,:])[0,0])\n",
        "print(prediction_multi_1)\n",
        "janela = janela[1:]\n",
        "janela = np.insert(janela, (janela.shape[0]), model.predict(janela[np.newaxis,:,:])[0,0], axis=0)\n",
        "prediction_multi_1.append(model.predict(janela[np.newaxis,:,:])[0,0])\n",
        "print(prediction_multi_1)\n",
        "janela = janela[1:]\n",
        "janela = np.insert(janela, (janela.shape[0]), model.predict(janela[np.newaxis,:,:])[0,0], axis=0)\n",
        "prediction_multi_1.append(model.predict(janela[np.newaxis,:,:])[0,0])\n",
        "print(prediction_multi_1)\n",
        "janela = janela[1:]\n",
        "janela = np.insert(janela, (janela.shape[0]), model.predict(janela[np.newaxis,:,:])[0,0], axis=0)\n",
        "prediction_multi_1.append(model.predict(janela[np.newaxis,:,:])[0,0])\n",
        "print(prediction_multi_1)\n",
        "janela = janela[1:]\n",
        "janela = np.insert(janela, (janela.shape[0]), model.predict(janela[np.newaxis,:,:])[0,0], axis=0)\n",
        "prediction_multi_1.append(model.predict(janela[np.newaxis,:,:])[0,0])\n",
        "print(prediction_multi_1)\n",
        "janela = janela[1:]\n",
        "janela = np.insert(janela, (janela.shape[0]), model.predict(janela[np.newaxis,:,:])[0,0], axis=0)\n",
        "prediction_multi_1.append(model.predict(janela[np.newaxis,:,:])[0,0])\n",
        "print(prediction_multi_1)\n",
        "janela = janela[1:]\n",
        "janela = np.insert(janela, (janela.shape[0]), model.predict(janela[np.newaxis,:,:])[0,0], axis=0)\n",
        "prediction_multi_1.append(model.predict(janela[np.newaxis,:,:])[0,0])\n",
        "print(prediction_multi_1)\n",
        "janela = janela[1:]\n",
        "janela = np.insert(janela, (janela.shape[0]), model.predict(janela[np.newaxis,:,:])[0,0], axis=0)\n",
        "prediction_multi_1.append(model.predict(janela[np.newaxis,:,:])[0,0])\n",
        "print(prediction_multi_1)\n",
        "janela = janela[1:]\n",
        "janela = np.insert(janela, (janela.shape[0]), model.predict(janela[np.newaxis,:,:])[0,0], axis=0)\n",
        "prediction_multi_1.append(model.predict(janela[np.newaxis,:,:])[0,0])\n",
        "print(prediction_multi_1)\n",
        "janela = janela[1:]\n",
        "janela = np.insert(janela, (janela.shape[0]), model.predict(janela[np.newaxis,:,:])[0,0], axis=0)\n",
        "prediction_multi_1.append(model.predict(janela[np.newaxis,:,:])[0,0])\n",
        "print(prediction_multi_1)\n",
        "janela = janela[1:]\n",
        "janela = np.insert(janela, (janela.shape[0]), model.predict(janela[np.newaxis,:,:])[0,0], axis=0)\n",
        "prediction_multi_1.append(model.predict(janela[np.newaxis,:,:])[0,0])\n",
        "print(prediction_multi_1)\n",
        "janela = janela[1:]\n",
        "janela = np.insert(janela, (janela.shape[0]), model.predict(janela[np.newaxis,:,:])[0,0], axis=0)\n",
        "prediction_multi_1.append(model.predict(janela[np.newaxis,:,:])[0,0])\n",
        "print(prediction_multi_1)\n",
        "prediction_multi_1.append(model.predict(janela[np.newaxis,:,:])[0,0])\n",
        "print(prediction_multi_1)\n",
        "janela = janela[1:]\n",
        "janela = np.insert(janela, (janela.shape[0]), model.predict(janela[np.newaxis,:,:])[0,0], axis=0)\n",
        "prediction_multi_1.append(model.predict(janela[np.newaxis,:,:])[0,0])\n",
        "print(prediction_multi_1)\n",
        "janela = janela[1:]\n",
        "janela = np.insert(janela, (janela.shape[0]), model.predict(janela[np.newaxis,:,:])[0,0], axis=0)\n",
        "prediction_multi_1.append(model.predict(janela[np.newaxis,:,:])[0,0])\n",
        "print(prediction_multi_1)\n",
        "janela = janela[1:]\n",
        "janela = np.insert(janela, (janela.shape[0]), model.predict(janela[np.newaxis,:,:])[0,0], axis=0)\n",
        "prediction_multi_1.append(model.predict(janela[np.newaxis,:,:])[0,0])\n",
        "print(prediction_multi_1)\n",
        "janela = janela[1:]\n",
        "janela = np.insert(janela, (janela.shape[0]), model.predict(janela[np.newaxis,:,:])[0,0], axis=0)\n",
        "prediction_multi_1.append(model.predict(janela[np.newaxis,:,:])[0,0])\n",
        "print(prediction_multi_1)\n",
        "janela = janela[1:]\n",
        "janela = np.insert(janela, (janela.shape[0]), model.predict(janela[np.newaxis,:,:])[0,0], axis=0)\n",
        "prediction_multi_1.append(model.predict(janela[np.newaxis,:,:])[0,0])\n",
        "print(prediction_multi_1)\n",
        "janela = janela[1:]\n",
        "janela = np.insert(janela, (janela.shape[0]), model.predict(janela[np.newaxis,:,:])[0,0], axis=0)\n",
        "prediction_multi_1.append(model.predict(janela[np.newaxis,:,:])[0,0])\n",
        "print(prediction_multi_1)\n",
        "janela = janela[1:]\n",
        "janela = np.insert(janela, (janela.shape[0]), model.predict(janela[np.newaxis,:,:])[0,0], axis=0)\n",
        "prediction_multi_1.append(model.predict(janela[np.newaxis,:,:])[0,0])\n",
        "print(prediction_multi_1)\n",
        "janela = janela[1:]\n",
        "janela = np.insert(janela, (janela.shape[0]), model.predict(janela[np.newaxis,:,:])[0,0], axis=0)\n",
        "prediction_multi_1.append(model.predict(janela[np.newaxis,:,:])[0,0])\n",
        "print(prediction_multi_1)\n",
        "janela = janela[1:]\n",
        "janela = np.insert(janela, (janela.shape[0]), model.predict(janela[np.newaxis,:,:])[0,0], axis=0)\n",
        "prediction_multi_1.append(model.predict(janela[np.newaxis,:,:])[0,0])\n",
        "print(prediction_multi_1)\n",
        "janela = janela[1:]\n",
        "janela = np.insert(janela, (janela.shape[0]), model.predict(janela[np.newaxis,:,:])[0,0], axis=0)\n",
        "prediction_multi_1.append(model.predict(janela[np.newaxis,:,:])[0,0])\n",
        "print(prediction_multi_1)\n",
        "janela = janela[1:]\n",
        "janela = np.insert(janela, (janela.shape[0]), model.predict(janela[np.newaxis,:,:])[0,0], axis=0)\n",
        "prediction_multi_1.append(model.predict(janela[np.newaxis,:,:])[0,0])\n",
        "print(prediction_multi_1)\n",
        "janela = janela[1:]\n",
        "janela = np.insert(janela, (janela.shape[0]), model.predict(janela[np.newaxis,:,:])[0,0], axis=0)\n",
        "prediction_multi_1.append(model.predict(janela[np.newaxis,:,:])[0,0])\n",
        "print(prediction_multi_1)\n",
        "janela = janela[1:]\n",
        "janela = np.insert(janela, (janela.shape[0]), model.predict(janela[np.newaxis,:,:])[0,0], axis=0)\n",
        "prediction_multi_1.append(model.predict(janela[np.newaxis,:,:])[0,0])\n",
        "print(prediction_multi_1)\n",
        "janela = janela[1:]\n",
        "janela = np.insert(janela, (janela.shape[0]), model.predict(janela[np.newaxis,:,:])[0,0], axis=0)\n",
        "prediction_multi_1.append(model.predict(janela[np.newaxis,:,:])[0,0])\n",
        "print(prediction_multi_1)\n",
        "janela = janela[1:]\n",
        "janela = np.insert(janela, (janela.shape[0]), model.predict(janela[np.newaxis,:,:])[0,0], axis=0)\n",
        "prediction_multi_1.append(model.predict(janela[np.newaxis,:,:])[0,0])\n",
        "print(prediction_multi_1)\n",
        "janela = janela[1:]\n",
        "janela = np.insert(janela, (janela.shape[0]), model.predict(janela[np.newaxis,:,:])[0,0], axis=0)\n",
        "prediction_multi_1.append(model.predict(janela[np.newaxis,:,:])[0,0])\n",
        "print(prediction_multi_1)\n",
        "janela = janela[1:]\n",
        "janela = np.insert(janela, (janela.shape[0]), model.predict(janela[np.newaxis,:,:])[0,0], axis=0)\n",
        "prediction_multi_1.append(model.predict(janela[np.newaxis,:,:])[0,0])\n",
        "print(prediction_multi_1)\n",
        "janela = janela[1:]\n",
        "janela = np.insert(janela, (janela.shape[0]), model.predict(janela[np.newaxis,:,:])[0,0], axis=0)\n",
        "prediction_multi_1.append(model.predict(janela[np.newaxis,:,:])[0,0])\n",
        "print(prediction_multi_1)\n",
        "janela = janela[1:]\n",
        "janela = np.insert(janela, (janela.shape[0]), model.predict(janela[np.newaxis,:,:])[0,0], axis=0)\n",
        "prediction_multi_1.append(model.predict(janela[np.newaxis,:,:])[0,0])\n",
        "print(prediction_multi_1)\n",
        "janela = janela[1:]\n",
        "janela = np.insert(janela, (janela.shape[0]), model.predict(janela[np.newaxis,:,:])[0,0], axis=0)\n",
        "prediction_multi_1.append(model.predict(janela[np.newaxis,:,:])[0,0])\n",
        "print(prediction_multi_1)\n",
        "janela = janela[1:]\n",
        "janela = np.insert(janela, (janela.shape[0]), model.predict(janela[np.newaxis,:,:])[0,0], axis=0)\n",
        "prediction_multi_1.append(model.predict(janela[np.newaxis,:,:])[0,0])\n",
        "print(prediction_multi_1)\n",
        "janela = janela[1:]\n",
        "janela = np.insert(janela, (janela.shape[0]), model.predict(janela[np.newaxis,:,:])[0,0], axis=0)\n",
        "prediction_multi_1.append(model.predict(janela[np.newaxis,:,:])[0,0])\n",
        "print(prediction_multi_1)\n",
        "janela = janela[1:]\n",
        "janela = np.insert(janela, (janela.shape[0]), model.predict(janela[np.newaxis,:,:])[0,0], axis=0)\n",
        "prediction_multi_1.append(model.predict(janela[np.newaxis,:,:])[0,0])\n",
        "print(prediction_multi_1)\n",
        "janela = janela[1:]\n",
        "janela = np.insert(janela, (janela.shape[0]), model.predict(janela[np.newaxis,:,:])[0,0], axis=0)\n",
        "prediction_multi_1.append(model.predict(janela[np.newaxis,:,:])[0,0])\n",
        "print(prediction_multi_1)\n",
        "janela = janela[1:]\n",
        "janela = np.insert(janela, (janela.shape[0]), model.predict(janela[np.newaxis,:,:])[0,0], axis=0)\n",
        "prediction_multi_1.append(model.predict(janela[np.newaxis,:,:])[0,0])\n",
        "print(prediction_multi_1)\n",
        "janela = janela[1:]\n",
        "janela = np.insert(janela, (janela.shape[0]), model.predict(janela[np.newaxis,:,:])[0,0], axis=0)\n",
        "prediction_multi_1.append(model.predict(janela[np.newaxis,:,:])[0,0])\n",
        "print(prediction_multi_1)\n",
        "janela = janela[1:]\n",
        "janela = np.insert(janela, (janela.shape[0]), model.predict(janela[np.newaxis,:,:])[0,0], axis=0)\n",
        "prediction_multi_1.append(model.predict(janela[np.newaxis,:,:])[0,0])\n",
        "print(prediction_multi_1)\n",
        "janela = janela[1:]\n",
        "janela = np.insert(janela, (janela.shape[0]), model.predict(janela[np.newaxis,:,:])[0,0], axis=0)\n",
        "prediction_multi_1.append(model.predict(janela[np.newaxis,:,:])[0,0])\n",
        "print(prediction_multi_1)\n",
        "janela = janela[1:]\n",
        "janela = np.insert(janela, (janela.shape[0]), model.predict(janela[np.newaxis,:,:])[0,0], axis=0)\n",
        "prediction_multi_1.append(model.predict(janela[np.newaxis,:,:])[0,0])\n",
        "print(prediction_multi_1)\n",
        "prediction_multi_1.append(model.predict(janela[np.newaxis,:,:])[0,0])\n",
        "print(prediction_multi_1)\n",
        "janela = janela[1:]\n",
        "janela = np.insert(janela, (janela.shape[0]), model.predict(janela[np.newaxis,:,:])[0,0], axis=0)\n",
        "prediction_multi_1.append(model.predict(janela[np.newaxis,:,:])[0,0])\n",
        "print(prediction_multi_1)\n",
        "janela = janela[1:]\n",
        "janela = np.insert(janela, (janela.shape[0]), model.predict(janela[np.newaxis,:,:])[0,0], axis=0)\n",
        "prediction_multi_1.append(model.predict(janela[np.newaxis,:,:])[0,0])\n",
        "print(prediction_multi_1)\n",
        "janela = janela[1:]\n",
        "janela = np.insert(janela, (janela.shape[0]), model.predict(janela[np.newaxis,:,:])[0,0], axis=0)\n",
        "prediction_multi_1.append(model.predict(janela[np.newaxis,:,:])[0,0])\n",
        "print(prediction_multi_1)\n",
        "janela = janela[1:]\n",
        "janela = np.insert(janela, (janela.shape[0]), model.predict(janela[np.newaxis,:,:])[0,0], axis=0)\n",
        "prediction_multi_1.append(model.predict(janela[np.newaxis,:,:])[0,0])\n",
        "print(prediction_multi_1)\n",
        "janela = janela[1:]\n",
        "janela = np.insert(janela, (janela.shape[0]), model.predict(janela[np.newaxis,:,:])[0,0], axis=0)\n",
        "prediction_multi_1.append(model.predict(janela[np.newaxis,:,:])[0,0])\n",
        "print(prediction_multi_1)\n",
        "janela = janela[1:]\n",
        "janela = np.insert(janela, (janela.shape[0]), model.predict(janela[np.newaxis,:,:])[0,0], axis=0)\n",
        "prediction_multi_1.append(model.predict(janela[np.newaxis,:,:])[0,0])\n",
        "print(prediction_multi_1)\n",
        "janela = janela[1:]\n",
        "janela = np.insert(janela, (janela.shape[0]), model.predict(janela[np.newaxis,:,:])[0,0], axis=0)\n",
        "prediction_multi_1.append(model.predict(janela[np.newaxis,:,:])[0,0])\n",
        "print(prediction_multi_1)\n",
        "janela = janela[1:]\n",
        "janela = np.insert(janela, (janela.shape[0]), model.predict(janela[np.newaxis,:,:])[0,0], axis=0)\n",
        "prediction_multi_1.append(model.predict(janela[np.newaxis,:,:])[0,0])\n",
        "print(prediction_multi_1)\n",
        "janela = janela[1:]\n",
        "janela = np.insert(janela, (janela.shape[0]), model.predict(janela[np.newaxis,:,:])[0,0], axis=0)\n",
        "prediction_multi_1.append(model.predict(janela[np.newaxis,:,:])[0,0])\n",
        "print(prediction_multi_1)\n",
        "janela = janela[1:]\n",
        "janela = np.insert(janela, (janela.shape[0]), model.predict(janela[np.newaxis,:,:])[0,0], axis=0)\n",
        "prediction_multi_1.append(model.predict(janela[np.newaxis,:,:])[0,0])\n",
        "print(prediction_multi_1)\n",
        "janela = janela[1:]\n",
        "janela = np.insert(janela, (janela.shape[0]), model.predict(janela[np.newaxis,:,:])[0,0], axis=0)\n",
        "prediction_multi_1.append(model.predict(janela[np.newaxis,:,:])[0,0])\n",
        "print(prediction_multi_1)\n",
        "janela = janela[1:]\n",
        "janela = np.insert(janela, (janela.shape[0]), model.predict(janela[np.newaxis,:,:])[0,0], axis=0)\n",
        "prediction_multi_1.append(model.predict(janela[np.newaxis,:,:])[0,0])\n",
        "print(prediction_multi_1)\n",
        "janela = janela[1:]\n",
        "janela = np.insert(janela, (janela.shape[0]), model.predict(janela[np.newaxis,:,:])[0,0], axis=0)\n",
        "prediction_multi_1.append(model.predict(janela[np.newaxis,:,:])[0,0])\n",
        "print(prediction_multi_1)\n",
        "janela = janela[1:]\n",
        "janela = np.insert(janela, (janela.shape[0]), model.predict(janela[np.newaxis,:,:])[0,0], axis=0)\n",
        "prediction_multi_1.append(model.predict(janela[np.newaxis,:,:])[0,0])\n",
        "print(prediction_multi_1)\n",
        "janela = janela[1:]\n",
        "janela = np.insert(janela, (janela.shape[0]), model.predict(janela[np.newaxis,:,:])[0,0], axis=0)\n",
        "prediction_multi_1.append(model.predict(janela[np.newaxis,:,:])[0,0])\n",
        "print(prediction_multi_1)\n",
        "janela = janela[1:]\n",
        "janela = np.insert(janela, (janela.shape[0]), model.predict(janela[np.newaxis,:,:])[0,0], axis=0)\n",
        "prediction_multi_1.append(model.predict(janela[np.newaxis,:,:])[0,0])\n",
        "print(prediction_multi_1)\n",
        "janela = janela[1:]\n",
        "janela = np.insert(janela, (janela.shape[0]), model.predict(janela[np.newaxis,:,:])[0,0], axis=0)\n",
        "prediction_multi_1.append(model.predict(janela[np.newaxis,:,:])[0,0])\n",
        "print(prediction_multi_1)\n",
        "janela = janela[1:]\n",
        "janela = np.insert(janela, (janela.shape[0]), model.predict(janela[np.newaxis,:,:])[0,0], axis=0)\n",
        "prediction_multi_1.append(model.predict(janela[np.newaxis,:,:])[0,0])\n",
        "print(prediction_multi_1)\n",
        "janela = janela[1:]\n",
        "janela = np.insert(janela, (janela.shape[0]), model.predict(janela[np.newaxis,:,:])[0,0], axis=0)\n",
        "prediction_multi_1.append(model.predict(janela[np.newaxis,:,:])[0,0])\n",
        "print(prediction_multi_1)\n",
        "janela = janela[1:]\n",
        "janela = np.insert(janela, (janela.shape[0]), model.predict(janela[np.newaxis,:,:])[0,0], axis=0)\n",
        "prediction_multi_1.append(model.predict(janela[np.newaxis,:,:])[0,0])\n",
        "print(prediction_multi_1)\n",
        "janela = janela[1:]\n",
        "janela = np.insert(janela, (janela.shape[0]), model.predict(janela[np.newaxis,:,:])[0,0], axis=0)\n",
        "prediction_multi_1.append(model.predict(janela[np.newaxis,:,:])[0,0])\n",
        "print(prediction_multi_1)\n",
        "janela = janela[1:]\n",
        "janela = np.insert(janela, (janela.shape[0]), model.predict(janela[np.newaxis,:,:])[0,0], axis=0)\n",
        "prediction_multi_1.append(model.predict(janela[np.newaxis,:,:])[0,0])\n",
        "print(prediction_multi_1)\n",
        "janela = janela[1:]\n",
        "janela = np.insert(janela, (janela.shape[0]), model.predict(janela[np.newaxis,:,:])[0,0], axis=0)\n",
        "prediction_multi_1.append(model.predict(janela[np.newaxis,:,:])[0,0])\n",
        "print(prediction_multi_1)\n",
        "janela = janela[1:]\n",
        "janela = np.insert(janela, (janela.shape[0]), model.predict(janela[np.newaxis,:,:])[0,0], axis=0)\n",
        "prediction_multi_1.append(model.predict(janela[np.newaxis,:,:])[0,0])\n",
        "print(prediction_multi_1)\n",
        "janela = janela[1:]\n",
        "janela = np.insert(janela, (janela.shape[0]), model.predict(janela[np.newaxis,:,:])[0,0], axis=0)\n",
        "prediction_multi_1.append(model.predict(janela[np.newaxis,:,:])[0,0])\n",
        "print(prediction_multi_1)\n",
        "janela = janela[1:]\n",
        "janela = np.insert(janela, (janela.shape[0]), model.predict(janela[np.newaxis,:,:])[0,0], axis=0)\n",
        "prediction_multi_1.append(model.predict(janela[np.newaxis,:,:])[0,0])\n",
        "print(prediction_multi_1)\n",
        "janela = janela[1:]\n",
        "janela = np.insert(janela, (janela.shape[0]), model.predict(janela[np.newaxis,:,:])[0,0], axis=0)\n",
        "prediction_multi_1.append(model.predict(janela[np.newaxis,:,:])[0,0])\n",
        "print(prediction_multi_1)\n",
        "janela = janela[1:]\n",
        "janela = np.insert(janela, (janela.shape[0]), model.predict(janela[np.newaxis,:,:])[0,0], axis=0)\n",
        "prediction_multi_1.append(model.predict(janela[np.newaxis,:,:])[0,0])\n",
        "print(prediction_multi_1)\n",
        "janela = janela[1:]\n",
        "janela = np.insert(janela, (janela.shape[0]), model.predict(janela[np.newaxis,:,:])[0,0], axis=0)\n",
        "prediction_multi_1.append(model.predict(janela[np.newaxis,:,:])[0,0])\n",
        "print(prediction_multi_1)\n",
        "prediction_multi_1.append(model.predict(janela[np.newaxis,:,:])[0,0])\n",
        "print(prediction_multi_1)\n",
        "janela = janela[1:]\n",
        "janela = np.insert(janela, (janela.shape[0]), model.predict(janela[np.newaxis,:,:])[0,0], axis=0)\n",
        "prediction_multi_1.append(model.predict(janela[np.newaxis,:,:])[0,0])\n",
        "print(prediction_multi_1)\n",
        "janela = janela[1:]\n",
        "janela = np.insert(janela, (janela.shape[0]), model.predict(janela[np.newaxis,:,:])[0,0], axis=0)\n",
        "prediction_multi_1.append(model.predict(janela[np.newaxis,:,:])[0,0])\n",
        "print(prediction_multi_1)\n",
        "janela = janela[1:]\n",
        "janela = np.insert(janela, (janela.shape[0]), model.predict(janela[np.newaxis,:,:])[0,0], axis=0)\n",
        "prediction_multi_1.append(model.predict(janela[np.newaxis,:,:])[0,0])\n",
        "print(prediction_multi_1)\n",
        "janela = janela[1:]\n",
        "janela = np.insert(janela, (janela.shape[0]), model.predict(janela[np.newaxis,:,:])[0,0], axis=0)\n",
        "prediction_multi_1.append(model.predict(janela[np.newaxis,:,:])[0,0])\n",
        "print(prediction_multi_1)\n",
        "janela = janela[1:]\n",
        "janela = np.insert(janela, (janela.shape[0]), model.predict(janela[np.newaxis,:,:])[0,0], axis=0)\n",
        "prediction_multi_1.append(model.predict(janela[np.newaxis,:,:])[0,0])\n",
        "print(prediction_multi_1)\n",
        "janela = janela[1:]\n",
        "janela = np.insert(janela, (janela.shape[0]), model.predict(janela[np.newaxis,:,:])[0,0], axis=0)\n",
        "prediction_multi_1.append(model.predict(janela[np.newaxis,:,:])[0,0])\n",
        "print(prediction_multi_1)\n",
        "janela = janela[1:]\n",
        "janela = np.insert(janela, (janela.shape[0]), model.predict(janela[np.newaxis,:,:])[0,0], axis=0)\n",
        "prediction_multi_1.append(model.predict(janela[np.newaxis,:,:])[0,0])\n",
        "print(prediction_multi_1)\n",
        "janela = janela[1:]\n",
        "janela = np.insert(janela, (janela.shape[0]), model.predict(janela[np.newaxis,:,:])[0,0], axis=0)\n",
        "prediction_multi_1.append(model.predict(janela[np.newaxis,:,:])[0,0])\n",
        "print(prediction_multi_1)\n",
        "janela = janela[1:]\n",
        "janela = np.insert(janela, (janela.shape[0]), model.predict(janela[np.newaxis,:,:])[0,0], axis=0)\n",
        "prediction_multi_1.append(model.predict(janela[np.newaxis,:,:])[0,0])\n",
        "print(prediction_multi_1)\n",
        "janela = janela[1:]\n",
        "janela = np.insert(janela, (janela.shape[0]), model.predict(janela[np.newaxis,:,:])[0,0], axis=0)\n",
        "prediction_multi_1.append(model.predict(janela[np.newaxis,:,:])[0,0])\n",
        "print(prediction_multi_1)\n",
        "janela = janela[1:]\n",
        "janela = np.insert(janela, (janela.shape[0]), model.predict(janela[np.newaxis,:,:])[0,0], axis=0)\n",
        "prediction_multi_1.append(model.predict(janela[np.newaxis,:,:])[0,0])\n",
        "print(prediction_multi_1)\n",
        "janela = janela[1:]\n",
        "janela = np.insert(janela, (janela.shape[0]), model.predict(janela[np.newaxis,:,:])[0,0], axis=0)\n",
        "prediction_multi_1.append(model.predict(janela[np.newaxis,:,:])[0,0])\n",
        "print(prediction_multi_1)\n",
        "janela = janela[1:]\n",
        "janela = np.insert(janela, (janela.shape[0]), model.predict(janela[np.newaxis,:,:])[0,0], axis=0)\n",
        "prediction_multi_1.append(model.predict(janela[np.newaxis,:,:])[0,0])\n",
        "print(prediction_multi_1)\n",
        "janela = janela[1:]\n",
        "janela = np.insert(janela, (janela.shape[0]), model.predict(janela[np.newaxis,:,:])[0,0], axis=0)\n",
        "prediction_multi_1.append(model.predict(janela[np.newaxis,:,:])[0,0])\n",
        "print(prediction_multi_1)\n",
        "janela = janela[1:]\n",
        "janela = np.insert(janela, (janela.shape[0]), model.predict(janela[np.newaxis,:,:])[0,0], axis=0)\n",
        "prediction_multi_1.append(model.predict(janela[np.newaxis,:,:])[0,0])\n",
        "print(prediction_multi_1)\n",
        "janela = janela[1:]\n",
        "janela = np.insert(janela, (janela.shape[0]), model.predict(janela[np.newaxis,:,:])[0,0], axis=0)\n",
        "prediction_multi_1.append(model.predict(janela[np.newaxis,:,:])[0,0])\n",
        "print(prediction_multi_1)\n",
        "janela = janela[1:]\n",
        "janela = np.insert(janela, (janela.shape[0]), model.predict(janela[np.newaxis,:,:])[0,0], axis=0)\n",
        "prediction_multi_1.append(model.predict(janela[np.newaxis,:,:])[0,0])\n",
        "print(prediction_multi_1)\n",
        "janela = janela[1:]\n",
        "janela = np.insert(janela, (janela.shape[0]), model.predict(janela[np.newaxis,:,:])[0,0], axis=0)\n",
        "prediction_multi_1.append(model.predict(janela[np.newaxis,:,:])[0,0])\n",
        "print(prediction_multi_1)\n",
        "janela = janela[1:]\n",
        "janela = np.insert(janela, (janela.shape[0]), model.predict(janela[np.newaxis,:,:])[0,0], axis=0)\n",
        "prediction_multi_1.append(model.predict(janela[np.newaxis,:,:])[0,0])\n",
        "print(prediction_multi_1)\n",
        "janela = janela[1:]\n",
        "janela = np.insert(janela, (janela.shape[0]), model.predict(janela[np.newaxis,:,:])[0,0], axis=0)\n",
        "prediction_multi_1.append(model.predict(janela[np.newaxis,:,:])[0,0])\n",
        "print(prediction_multi_1)\n",
        "janela = janela[1:]\n",
        "janela = np.insert(janela, (janela.shape[0]), model.predict(janela[np.newaxis,:,:])[0,0], axis=0)\n",
        "prediction_multi_1.append(model.predict(janela[np.newaxis,:,:])[0,0])\n",
        "print(prediction_multi_1)\n",
        "janela = janela[1:]\n",
        "janela = np.insert(janela, (janela.shape[0]), model.predict(janela[np.newaxis,:,:])[0,0], axis=0)\n",
        "prediction_multi_1.append(model.predict(janela[np.newaxis,:,:])[0,0])\n",
        "print(prediction_multi_1)\n",
        "janela = janela[1:]\n",
        "janela = np.insert(janela, (janela.shape[0]), model.predict(janela[np.newaxis,:,:])[0,0], axis=0)\n",
        "prediction_multi_1.append(model.predict(janela[np.newaxis,:,:])[0,0])\n",
        "print(prediction_multi_1)\n",
        "janela = janela[1:]\n",
        "janela = np.insert(janela, (janela.shape[0]), model.predict(janela[np.newaxis,:,:])[0,0], axis=0)\n",
        "prediction_multi_1.append(model.predict(janela[np.newaxis,:,:])[0,0])\n",
        "print(prediction_multi_1)\n",
        "janela = janela[1:]\n",
        "janela = np.insert(janela, (janela.shape[0]), model.predict(janela[np.newaxis,:,:])[0,0], axis=0)\n",
        "prediction_multi_1.append(model.predict(janela[np.newaxis,:,:])[0,0])\n",
        "print(prediction_multi_1)\n",
        "janela = janela[1:]\n",
        "janela = np.insert(janela, (janela.shape[0]), model.predict(janela[np.newaxis,:,:])[0,0], axis=0)\n",
        "prediction_multi_1.append(model.predict(janela[np.newaxis,:,:])[0,0])\n",
        "print(prediction_multi_1)\n",
        "janela = janela[1:]\n",
        "janela = np.insert(janela, (janela.shape[0]), model.predict(janela[np.newaxis,:,:])[0,0], axis=0)\n",
        "prediction_multi_1.append(model.predict(janela[np.newaxis,:,:])[0,0])\n",
        "print(prediction_multi_1)\n",
        "janela = janela[1:]\n",
        "janela = np.insert(janela, (janela.shape[0]), model.predict(janela[np.newaxis,:,:])[0,0], axis=0)\n",
        "prediction_multi_1.append(model.predict(janela[np.newaxis,:,:])[0,0])\n",
        "print(prediction_multi_1)\n",
        "janela = janela[1:]\n",
        "janela = np.insert(janela, (janela.shape[0]), model.predict(janela[np.newaxis,:,:])[0,0], axis=0)\n",
        "prediction_multi_1.append(model.predict(janela[np.newaxis,:,:])[0,0])\n",
        "print(prediction_multi_1)\n",
        "prediction_multi_1.append(model.predict(janela[np.newaxis,:,:])[0,0])\n",
        "print(prediction_multi_1)\n",
        "janela = janela[1:]\n",
        "janela = np.insert(janela, (janela.shape[0]), model.predict(janela[np.newaxis,:,:])[0,0], axis=0)\n",
        "prediction_multi_1.append(model.predict(janela[np.newaxis,:,:])[0,0])\n",
        "print(prediction_multi_1)\n",
        "janela = janela[1:]\n",
        "janela = np.insert(janela, (janela.shape[0]), model.predict(janela[np.newaxis,:,:])[0,0], axis=0)\n",
        "prediction_multi_1.append(model.predict(janela[np.newaxis,:,:])[0,0])\n",
        "print(prediction_multi_1)\n",
        "janela = janela[1:]\n",
        "janela = np.insert(janela, (janela.shape[0]), model.predict(janela[np.newaxis,:,:])[0,0], axis=0)\n",
        "prediction_multi_1.append(model.predict(janela[np.newaxis,:,:])[0,0])\n",
        "print(prediction_multi_1)\n",
        "janela = janela[1:]\n",
        "janela = np.insert(janela, (janela.shape[0]), model.predict(janela[np.newaxis,:,:])[0,0], axis=0)\n",
        "prediction_multi_1.append(model.predict(janela[np.newaxis,:,:])[0,0])\n",
        "print(prediction_multi_1)\n",
        "janela = janela[1:]\n",
        "janela = np.insert(janela, (janela.shape[0]), model.predict(janela[np.newaxis,:,:])[0,0], axis=0)\n",
        "prediction_multi_1.append(model.predict(janela[np.newaxis,:,:])[0,0])\n",
        "print(prediction_multi_1)\n",
        "janela = janela[1:]\n",
        "janela = np.insert(janela, (janela.shape[0]), model.predict(janela[np.newaxis,:,:])[0,0], axis=0)\n",
        "prediction_multi_1.append(model.predict(janela[np.newaxis,:,:])[0,0])\n",
        "print(prediction_multi_1)\n",
        "janela = janela[1:]\n",
        "janela = np.insert(janela, (janela.shape[0]), model.predict(janela[np.newaxis,:,:])[0,0], axis=0)\n",
        "prediction_multi_1.append(model.predict(janela[np.newaxis,:,:])[0,0])\n",
        "print(prediction_multi_1)\n",
        "janela = janela[1:]\n",
        "janela = np.insert(janela, (janela.shape[0]), model.predict(janela[np.newaxis,:,:])[0,0], axis=0)\n",
        "prediction_multi_1.append(model.predict(janela[np.newaxis,:,:])[0,0])\n",
        "print(prediction_multi_1)\n",
        "janela = janela[1:]\n",
        "janela = np.insert(janela, (janela.shape[0]), model.predict(janela[np.newaxis,:,:])[0,0], axis=0)\n",
        "prediction_multi_1.append(model.predict(janela[np.newaxis,:,:])[0,0])\n",
        "print(prediction_multi_1)\n",
        "janela = janela[1:]\n",
        "janela = np.insert(janela, (janela.shape[0]), model.predict(janela[np.newaxis,:,:])[0,0], axis=0)\n",
        "prediction_multi_1.append(model.predict(janela[np.newaxis,:,:])[0,0])\n",
        "print(prediction_multi_1)\n",
        "janela = janela[1:]\n",
        "janela = np.insert(janela, (janela.shape[0]), model.predict(janela[np.newaxis,:,:])[0,0], axis=0)\n",
        "prediction_multi_1.append(model.predict(janela[np.newaxis,:,:])[0,0])\n",
        "print(prediction_multi_1)\n",
        "janela = janela[1:]\n",
        "janela = np.insert(janela, (janela.shape[0]), model.predict(janela[np.newaxis,:,:])[0,0], axis=0)\n",
        "prediction_multi_1.append(model.predict(janela[np.newaxis,:,:])[0,0])\n",
        "print(prediction_multi_1)\n",
        "janela = janela[1:]\n",
        "janela = np.insert(janela, (janela.shape[0]), model.predict(janela[np.newaxis,:,:])[0,0], axis=0)\n",
        "prediction_multi_1.append(model.predict(janela[np.newaxis,:,:])[0,0])\n",
        "print(prediction_multi_1)\n",
        "janela = janela[1:]\n",
        "janela = np.insert(janela, (janela.shape[0]), model.predict(janela[np.newaxis,:,:])[0,0], axis=0)\n",
        "prediction_multi_1.append(model.predict(janela[np.newaxis,:,:])[0,0])\n",
        "print(prediction_multi_1)\n",
        "janela = janela[1:]\n",
        "janela = np.insert(janela, (janela.shape[0]), model.predict(janela[np.newaxis,:,:])[0,0], axis=0)\n",
        "prediction_multi_1.append(model.predict(janela[np.newaxis,:,:])[0,0])\n",
        "print(prediction_multi_1)\n",
        "janela = janela[1:]\n",
        "janela = np.insert(janela, (janela.shape[0]), model.predict(janela[np.newaxis,:,:])[0,0], axis=0)\n",
        "prediction_multi_1.append(model.predict(janela[np.newaxis,:,:])[0,0])\n",
        "print(prediction_multi_1)\n",
        "janela = janela[1:]\n",
        "janela = np.insert(janela, (janela.shape[0]), model.predict(janela[np.newaxis,:,:])[0,0], axis=0)\n",
        "prediction_multi_1.append(model.predict(janela[np.newaxis,:,:])[0,0])\n",
        "print(prediction_multi_1)\n",
        "janela = janela[1:]\n",
        "janela = np.insert(janela, (janela.shape[0]), model.predict(janela[np.newaxis,:,:])[0,0], axis=0)\n",
        "prediction_multi_1.append(model.predict(janela[np.newaxis,:,:])[0,0])\n",
        "print(prediction_multi_1)\n",
        "janela = janela[1:]\n",
        "janela = np.insert(janela, (janela.shape[0]), model.predict(janela[np.newaxis,:,:])[0,0], axis=0)\n",
        "prediction_multi_1.append(model.predict(janela[np.newaxis,:,:])[0,0])\n",
        "print(prediction_multi_1)\n",
        "janela = janela[1:]\n",
        "janela = np.insert(janela, (janela.shape[0]), model.predict(janela[np.newaxis,:,:])[0,0], axis=0)\n",
        "prediction_multi_1.append(model.predict(janela[np.newaxis,:,:])[0,0])\n",
        "print(prediction_multi_1)\n",
        "janela = janela[1:]\n",
        "janela = np.insert(janela, (janela.shape[0]), model.predict(janela[np.newaxis,:,:])[0,0], axis=0)\n",
        "prediction_multi_1.append(model.predict(janela[np.newaxis,:,:])[0,0])\n",
        "print(prediction_multi_1)\n",
        "janela = janela[1:]\n",
        "janela = np.insert(janela, (janela.shape[0]), model.predict(janela[np.newaxis,:,:])[0,0], axis=0)\n",
        "prediction_multi_1.append(model.predict(janela[np.newaxis,:,:])[0,0])\n",
        "print(prediction_multi_1)\n",
        "janela = janela[1:]\n",
        "janela = np.insert(janela, (janela.shape[0]), model.predict(janela[np.newaxis,:,:])[0,0], axis=0)\n",
        "prediction_multi_1.append(model.predict(janela[np.newaxis,:,:])[0,0])\n",
        "print(prediction_multi_1)\n",
        "janela = janela[1:]\n",
        "janela = np.insert(janela, (janela.shape[0]), model.predict(janela[np.newaxis,:,:])[0,0], axis=0)\n",
        "prediction_multi_1.append(model.predict(janela[np.newaxis,:,:])[0,0])\n",
        "print(prediction_multi_1)\n",
        "janela = janela[1:]\n",
        "janela = np.insert(janela, (janela.shape[0]), model.predict(janela[np.newaxis,:,:])[0,0], axis=0)\n",
        "prediction_multi_1.append(model.predict(janela[np.newaxis,:,:])[0,0])\n",
        "print(prediction_multi_1)\n",
        "janela = janela[1:]\n",
        "janela = np.insert(janela, (janela.shape[0]), model.predict(janela[np.newaxis,:,:])[0,0], axis=0)\n",
        "prediction_multi_1.append(model.predict(janela[np.newaxis,:,:])[0,0])\n",
        "print(prediction_multi_1)\n",
        "janela = janela[1:]\n",
        "janela = np.insert(janela, (janela.shape[0]), model.predict(janela[np.newaxis,:,:])[0,0], axis=0)\n",
        "prediction_multi_1.append(model.predict(janela[np.newaxis,:,:])[0,0])\n",
        "print(prediction_multi_1)\n",
        "janela = janela[1:]\n",
        "janela = np.insert(janela, (janela.shape[0]), model.predict(janela[np.newaxis,:,:])[0,0], axis=0)\n",
        "prediction_multi_1.append(model.predict(janela[np.newaxis,:,:])[0,0])\n",
        "print(prediction_multi_1)\n",
        "janela = janela[1:]\n",
        "janela = np.insert(janela, (janela.shape[0]), model.predict(janela[np.newaxis,:,:])[0,0], axis=0)\n",
        "prediction_multi_1.append(model.predict(janela[np.newaxis,:,:])[0,0])\n",
        "print(prediction_multi_1)\n",
        "prediction_multi_1.append(model.predict(janela[np.newaxis,:,:])[0,0])\n",
        "print(prediction_multi_1)\n",
        "janela = janela[1:]\n",
        "janela = np.insert(janela, (janela.shape[0]), model.predict(janela[np.newaxis,:,:])[0,0], axis=0)\n",
        "prediction_multi_1.append(model.predict(janela[np.newaxis,:,:])[0,0])\n",
        "print(prediction_multi_1)\n",
        "janela = janela[1:]\n",
        "janela = np.insert(janela, (janela.shape[0]), model.predict(janela[np.newaxis,:,:])[0,0], axis=0)\n",
        "prediction_multi_1.append(model.predict(janela[np.newaxis,:,:])[0,0])\n",
        "print(prediction_multi_1)\n",
        "janela = janela[1:]\n",
        "janela = np.insert(janela, (janela.shape[0]), model.predict(janela[np.newaxis,:,:])[0,0], axis=0)\n",
        "prediction_multi_1.append(model.predict(janela[np.newaxis,:,:])[0,0])\n",
        "print(prediction_multi_1)\n",
        "janela = janela[1:]\n",
        "janela = np.insert(janela, (janela.shape[0]), model.predict(janela[np.newaxis,:,:])[0,0], axis=0)\n",
        "prediction_multi_1.append(model.predict(janela[np.newaxis,:,:])[0,0])\n",
        "print(prediction_multi_1)\n",
        "janela = janela[1:]\n",
        "janela = np.insert(janela, (janela.shape[0]), model.predict(janela[np.newaxis,:,:])[0,0], axis=0)\n",
        "prediction_multi_1.append(model.predict(janela[np.newaxis,:,:])[0,0])\n",
        "print(prediction_multi_1)\n",
        "janela = janela[1:]\n",
        "janela = np.insert(janela, (janela.shape[0]), model.predict(janela[np.newaxis,:,:])[0,0], axis=0)\n",
        "prediction_multi_1.append(model.predict(janela[np.newaxis,:,:])[0,0])\n",
        "print(prediction_multi_1)\n",
        "janela = janela[1:]\n",
        "janela = np.insert(janela, (janela.shape[0]), model.predict(janela[np.newaxis,:,:])[0,0], axis=0)\n",
        "prediction_multi_1.append(model.predict(janela[np.newaxis,:,:])[0,0])\n",
        "print(prediction_multi_1)\n",
        "janela = janela[1:]\n",
        "janela = np.insert(janela, (janela.shape[0]), model.predict(janela[np.newaxis,:,:])[0,0], axis=0)\n",
        "prediction_multi_1.append(model.predict(janela[np.newaxis,:,:])[0,0])\n",
        "print(prediction_multi_1)\n",
        "janela = janela[1:]\n",
        "janela = np.insert(janela, (janela.shape[0]), model.predict(janela[np.newaxis,:,:])[0,0], axis=0)\n",
        "prediction_multi_1.append(model.predict(janela[np.newaxis,:,:])[0,0])\n",
        "print(prediction_multi_1)\n",
        "janela = janela[1:]\n",
        "janela = np.insert(janela, (janela.shape[0]), model.predict(janela[np.newaxis,:,:])[0,0], axis=0)\n",
        "prediction_multi_1.append(model.predict(janela[np.newaxis,:,:])[0,0])\n",
        "print(prediction_multi_1)\n",
        "janela = janela[1:]\n",
        "janela = np.insert(janela, (janela.shape[0]), model.predict(janela[np.newaxis,:,:])[0,0], axis=0)\n",
        "prediction_multi_1.append(model.predict(janela[np.newaxis,:,:])[0,0])\n",
        "print(prediction_multi_1)\n",
        "janela = janela[1:]\n",
        "janela = np.insert(janela, (janela.shape[0]), model.predict(janela[np.newaxis,:,:])[0,0], axis=0)\n",
        "prediction_multi_1.append(model.predict(janela[np.newaxis,:,:])[0,0])\n",
        "print(prediction_multi_1)\n",
        "janela = janela[1:]\n",
        "janela = np.insert(janela, (janela.shape[0]), model.predict(janela[np.newaxis,:,:])[0,0], axis=0)\n",
        "prediction_multi_1.append(model.predict(janela[np.newaxis,:,:])[0,0])\n",
        "print(prediction_multi_1)\n",
        "janela = janela[1:]\n",
        "janela = np.insert(janela, (janela.shape[0]), model.predict(janela[np.newaxis,:,:])[0,0], axis=0)\n",
        "prediction_multi_1.append(model.predict(janela[np.newaxis,:,:])[0,0])\n",
        "print(prediction_multi_1)\n",
        "janela = janela[1:]\n",
        "janela = np.insert(janela, (janela.shape[0]), model.predict(janela[np.newaxis,:,:])[0,0], axis=0)\n",
        "prediction_multi_1.append(model.predict(janela[np.newaxis,:,:])[0,0])\n",
        "print(prediction_multi_1)\n",
        "janela = janela[1:]\n",
        "janela = np.insert(janela, (janela.shape[0]), model.predict(janela[np.newaxis,:,:])[0,0], axis=0)\n",
        "prediction_multi_1.append(model.predict(janela[np.newaxis,:,:])[0,0])\n",
        "print(prediction_multi_1)\n",
        "janela = janela[1:]\n",
        "janela = np.insert(janela, (janela.shape[0]), model.predict(janela[np.newaxis,:,:])[0,0], axis=0)\n",
        "prediction_multi_1.append(model.predict(janela[np.newaxis,:,:])[0,0])\n",
        "print(prediction_multi_1)\n",
        "janela = janela[1:]\n",
        "janela = np.insert(janela, (janela.shape[0]), model.predict(janela[np.newaxis,:,:])[0,0], axis=0)\n",
        "prediction_multi_1.append(model.predict(janela[np.newaxis,:,:])[0,0])\n",
        "print(prediction_multi_1)\n",
        "janela = janela[1:]\n",
        "janela = np.insert(janela, (janela.shape[0]), model.predict(janela[np.newaxis,:,:])[0,0], axis=0)\n",
        "prediction_multi_1.append(model.predict(janela[np.newaxis,:,:])[0,0])\n",
        "print(prediction_multi_1)\n",
        "janela = janela[1:]\n",
        "janela = np.insert(janela, (janela.shape[0]), model.predict(janela[np.newaxis,:,:])[0,0], axis=0)\n",
        "prediction_multi_1.append(model.predict(janela[np.newaxis,:,:])[0,0])\n",
        "print(prediction_multi_1)\n",
        "janela = janela[1:]\n",
        "janela = np.insert(janela, (janela.shape[0]), model.predict(janela[np.newaxis,:,:])[0,0], axis=0)\n",
        "prediction_multi_1.append(model.predict(janela[np.newaxis,:,:])[0,0])\n",
        "print(prediction_multi_1)\n",
        "janela = janela[1:]\n",
        "janela = np.insert(janela, (janela.shape[0]), model.predict(janela[np.newaxis,:,:])[0,0], axis=0)\n",
        "prediction_multi_1.append(model.predict(janela[np.newaxis,:,:])[0,0])\n",
        "print(prediction_multi_1)\n",
        "janela = janela[1:]\n",
        "janela = np.insert(janela, (janela.shape[0]), model.predict(janela[np.newaxis,:,:])[0,0], axis=0)\n",
        "prediction_multi_1.append(model.predict(janela[np.newaxis,:,:])[0,0])\n",
        "print(prediction_multi_1)\n",
        "janela = janela[1:]\n",
        "janela = np.insert(janela, (janela.shape[0]), model.predict(janela[np.newaxis,:,:])[0,0], axis=0)\n",
        "prediction_multi_1.append(model.predict(janela[np.newaxis,:,:])[0,0])\n",
        "print(prediction_multi_1)\n",
        "janela = janela[1:]\n",
        "janela = np.insert(janela, (janela.shape[0]), model.predict(janela[np.newaxis,:,:])[0,0], axis=0)\n",
        "prediction_multi_1.append(model.predict(janela[np.newaxis,:,:])[0,0])\n",
        "print(prediction_multi_1)\n",
        "janela = janela[1:]\n",
        "janela = np.insert(janela, (janela.shape[0]), model.predict(janela[np.newaxis,:,:])[0,0], axis=0)\n",
        "prediction_multi_1.append(model.predict(janela[np.newaxis,:,:])[0,0])\n",
        "print(prediction_multi_1)\n",
        "janela = janela[1:]\n",
        "janela = np.insert(janela, (janela.shape[0]), model.predict(janela[np.newaxis,:,:])[0,0], axis=0)\n",
        "prediction_multi_1.append(model.predict(janela[np.newaxis,:,:])[0,0])\n",
        "print(prediction_multi_1)\n",
        "janela = janela[1:]\n",
        "janela = np.insert(janela, (janela.shape[0]), model.predict(janela[np.newaxis,:,:])[0,0], axis=0)\n",
        "prediction_multi_1.append(model.predict(janela[np.newaxis,:,:])[0,0])\n",
        "print(prediction_multi_1)\n",
        "janela = janela[1:]\n",
        "janela = np.insert(janela, (janela.shape[0]), model.predict(janela[np.newaxis,:,:])[0,0], axis=0)\n",
        "prediction_multi_1.append(model.predict(janela[np.newaxis,:,:])[0,0])\n",
        "print(prediction_multi_1)\n",
        "prediction_multi_1.append(model.predict(janela[np.newaxis,:,:])[0,0])\n",
        "print(prediction_multi_1)\n",
        "janela = janela[1:]\n",
        "janela = np.insert(janela, (janela.shape[0]), model.predict(janela[np.newaxis,:,:])[0,0], axis=0)\n",
        "prediction_multi_1.append(model.predict(janela[np.newaxis,:,:])[0,0])\n",
        "print(prediction_multi_1)\n",
        "janela = janela[1:]\n",
        "janela = np.insert(janela, (janela.shape[0]), model.predict(janela[np.newaxis,:,:])[0,0], axis=0)\n",
        "prediction_multi_1.append(model.predict(janela[np.newaxis,:,:])[0,0])\n",
        "print(prediction_multi_1)\n",
        "janela = janela[1:]\n",
        "janela = np.insert(janela, (janela.shape[0]), model.predict(janela[np.newaxis,:,:])[0,0], axis=0)\n",
        "prediction_multi_1.append(model.predict(janela[np.newaxis,:,:])[0,0])\n",
        "print(prediction_multi_1)\n",
        "janela = janela[1:]\n",
        "janela = np.insert(janela, (janela.shape[0]), model.predict(janela[np.newaxis,:,:])[0,0], axis=0)\n",
        "prediction_multi_1.append(model.predict(janela[np.newaxis,:,:])[0,0])\n",
        "print(prediction_multi_1)\n",
        "janela = janela[1:]\n",
        "janela = np.insert(janela, (janela.shape[0]), model.predict(janela[np.newaxis,:,:])[0,0], axis=0)\n",
        "prediction_multi_1.append(model.predict(janela[np.newaxis,:,:])[0,0])\n",
        "print(prediction_multi_1)\n",
        "janela = janela[1:]\n",
        "janela = np.insert(janela, (janela.shape[0]), model.predict(janela[np.newaxis,:,:])[0,0], axis=0)\n",
        "prediction_multi_1.append(model.predict(janela[np.newaxis,:,:])[0,0])\n",
        "print(prediction_multi_1)\n",
        "janela = janela[1:]\n",
        "janela = np.insert(janela, (janela.shape[0]), model.predict(janela[np.newaxis,:,:])[0,0], axis=0)\n",
        "prediction_multi_1.append(model.predict(janela[np.newaxis,:,:])[0,0])\n",
        "print(prediction_multi_1)\n",
        "janela = janela[1:]\n",
        "janela = np.insert(janela, (janela.shape[0]), model.predict(janela[np.newaxis,:,:])[0,0], axis=0)\n",
        "prediction_multi_1.append(model.predict(janela[np.newaxis,:,:])[0,0])\n",
        "print(prediction_multi_1)\n",
        "janela = janela[1:]\n",
        "janela = np.insert(janela, (janela.shape[0]), model.predict(janela[np.newaxis,:,:])[0,0], axis=0)\n",
        "prediction_multi_1.append(model.predict(janela[np.newaxis,:,:])[0,0])\n",
        "print(prediction_multi_1)\n",
        "janela = janela[1:]\n",
        "janela = np.insert(janela, (janela.shape[0]), model.predict(janela[np.newaxis,:,:])[0,0], axis=0)\n",
        "prediction_multi_1.append(model.predict(janela[np.newaxis,:,:])[0,0])\n",
        "print(prediction_multi_1)\n",
        "janela = janela[1:]\n",
        "janela = np.insert(janela, (janela.shape[0]), model.predict(janela[np.newaxis,:,:])[0,0], axis=0)\n",
        "prediction_multi_1.append(model.predict(janela[np.newaxis,:,:])[0,0])\n",
        "print(prediction_multi_1)\n",
        "janela = janela[1:]\n",
        "janela = np.insert(janela, (janela.shape[0]), model.predict(janela[np.newaxis,:,:])[0,0], axis=0)\n",
        "prediction_multi_1.append(model.predict(janela[np.newaxis,:,:])[0,0])\n",
        "print(prediction_multi_1)\n",
        "janela = janela[1:]\n",
        "janela = np.insert(janela, (janela.shape[0]), model.predict(janela[np.newaxis,:,:])[0,0], axis=0)\n",
        "prediction_multi_1.append(model.predict(janela[np.newaxis,:,:])[0,0])\n",
        "print(prediction_multi_1)\n",
        "janela = janela[1:]\n",
        "janela = np.insert(janela, (janela.shape[0]), model.predict(janela[np.newaxis,:,:])[0,0], axis=0)\n",
        "prediction_multi_1.append(model.predict(janela[np.newaxis,:,:])[0,0])\n",
        "print(prediction_multi_1)\n",
        "janela = janela[1:]\n",
        "janela = np.insert(janela, (janela.shape[0]), model.predict(janela[np.newaxis,:,:])[0,0], axis=0)\n",
        "prediction_multi_1.append(model.predict(janela[np.newaxis,:,:])[0,0])\n",
        "print(prediction_multi_1)\n",
        "janela = janela[1:]\n",
        "janela = np.insert(janela, (janela.shape[0]), model.predict(janela[np.newaxis,:,:])[0,0], axis=0)\n",
        "prediction_multi_1.append(model.predict(janela[np.newaxis,:,:])[0,0])\n",
        "print(prediction_multi_1)\n",
        "janela = janela[1:]\n",
        "janela = np.insert(janela, (janela.shape[0]), model.predict(janela[np.newaxis,:,:])[0,0], axis=0)\n",
        "prediction_multi_1.append(model.predict(janela[np.newaxis,:,:])[0,0])\n",
        "print(prediction_multi_1)\n",
        "janela = janela[1:]\n",
        "janela = np.insert(janela, (janela.shape[0]), model.predict(janela[np.newaxis,:,:])[0,0], axis=0)\n",
        "prediction_multi_1.append(model.predict(janela[np.newaxis,:,:])[0,0])\n",
        "print(prediction_multi_1)\n",
        "janela = janela[1:]\n",
        "janela = np.insert(janela, (janela.shape[0]), model.predict(janela[np.newaxis,:,:])[0,0], axis=0)\n",
        "prediction_multi_1.append(model.predict(janela[np.newaxis,:,:])[0,0])\n",
        "print(prediction_multi_1)\n",
        "janela = janela[1:]\n",
        "janela = np.insert(janela, (janela.shape[0]), model.predict(janela[np.newaxis,:,:])[0,0], axis=0)\n",
        "prediction_multi_1.append(model.predict(janela[np.newaxis,:,:])[0,0])\n",
        "print(prediction_multi_1)\n",
        "janela = janela[1:]\n",
        "janela = np.insert(janela, (janela.shape[0]), model.predict(janela[np.newaxis,:,:])[0,0], axis=0)\n",
        "prediction_multi_1.append(model.predict(janela[np.newaxis,:,:])[0,0])\n",
        "print(prediction_multi_1)\n",
        "janela = janela[1:]\n",
        "janela = np.insert(janela, (janela.shape[0]), model.predict(janela[np.newaxis,:,:])[0,0], axis=0)\n",
        "prediction_multi_1.append(model.predict(janela[np.newaxis,:,:])[0,0])\n",
        "print(prediction_multi_1)\n",
        "janela = janela[1:]\n",
        "janela = np.insert(janela, (janela.shape[0]), model.predict(janela[np.newaxis,:,:])[0,0], axis=0)\n",
        "prediction_multi_1.append(model.predict(janela[np.newaxis,:,:])[0,0])\n",
        "print(prediction_multi_1)\n",
        "janela = janela[1:]\n",
        "janela = np.insert(janela, (janela.shape[0]), model.predict(janela[np.newaxis,:,:])[0,0], axis=0)\n",
        "prediction_multi_1.append(model.predict(janela[np.newaxis,:,:])[0,0])\n",
        "print(prediction_multi_1)\n",
        "janela = janela[1:]\n",
        "janela = np.insert(janela, (janela.shape[0]), model.predict(janela[np.newaxis,:,:])[0,0], axis=0)\n",
        "prediction_multi_1.append(model.predict(janela[np.newaxis,:,:])[0,0])\n",
        "print(prediction_multi_1)\n",
        "janela = janela[1:]\n",
        "janela = np.insert(janela, (janela.shape[0]), model.predict(janela[np.newaxis,:,:])[0,0], axis=0)\n",
        "prediction_multi_1.append(model.predict(janela[np.newaxis,:,:])[0,0])\n",
        "print(prediction_multi_1)\n",
        "janela = janela[1:]\n",
        "janela = np.insert(janela, (janela.shape[0]), model.predict(janela[np.newaxis,:,:])[0,0], axis=0)\n",
        "prediction_multi_1.append(model.predict(janela[np.newaxis,:,:])[0,0])\n",
        "print(prediction_multi_1)\n",
        "janela = janela[1:]\n",
        "janela = np.insert(janela, (janela.shape[0]), model.predict(janela[np.newaxis,:,:])[0,0], axis=0)\n",
        "prediction_multi_1.append(model.predict(janela[np.newaxis,:,:])[0,0])\n",
        "print(prediction_multi_1)\n",
        "janela = janela[1:]\n",
        "janela = np.insert(janela, (janela.shape[0]), model.predict(janela[np.newaxis,:,:])[0,0], axis=0)\n",
        "prediction_multi_1.append(model.predict(janela[np.newaxis,:,:])[0,0])\n",
        "print(prediction_multi_1)\n",
        "prediction_multi_1.append(model.predict(janela[np.newaxis,:,:])[0,0])\n",
        "print(prediction_multi_1)\n",
        "janela = janela[1:]\n",
        "janela = np.insert(janela, (janela.shape[0]), model.predict(janela[np.newaxis,:,:])[0,0], axis=0)\n",
        "prediction_multi_1.append(model.predict(janela[np.newaxis,:,:])[0,0])\n",
        "print(prediction_multi_1)\n",
        "janela = janela[1:]\n",
        "janela = np.insert(janela, (janela.shape[0]), model.predict(janela[np.newaxis,:,:])[0,0], axis=0)\n",
        "prediction_multi_1.append(model.predict(janela[np.newaxis,:,:])[0,0])\n",
        "print(prediction_multi_1)\n",
        "janela = janela[1:]\n",
        "janela = np.insert(janela, (janela.shape[0]), model.predict(janela[np.newaxis,:,:])[0,0], axis=0)\n",
        "prediction_multi_1.append(model.predict(janela[np.newaxis,:,:])[0,0])\n",
        "print(prediction_multi_1)\n",
        "janela = janela[1:]\n",
        "janela = np.insert(janela, (janela.shape[0]), model.predict(janela[np.newaxis,:,:])[0,0], axis=0)\n",
        "prediction_multi_1.append(model.predict(janela[np.newaxis,:,:])[0,0])\n",
        "print(prediction_multi_1)\n",
        "janela = janela[1:]\n",
        "janela = np.insert(janela, (janela.shape[0]), model.predict(janela[np.newaxis,:,:])[0,0], axis=0)\n",
        "prediction_multi_1.append(model.predict(janela[np.newaxis,:,:])[0,0])\n",
        "print(prediction_multi_1)\n",
        "janela = janela[1:]\n",
        "janela = np.insert(janela, (janela.shape[0]), model.predict(janela[np.newaxis,:,:])[0,0], axis=0)\n",
        "prediction_multi_1.append(model.predict(janela[np.newaxis,:,:])[0,0])\n",
        "print(prediction_multi_1)\n",
        "janela = janela[1:]\n",
        "janela = np.insert(janela, (janela.shape[0]), model.predict(janela[np.newaxis,:,:])[0,0], axis=0)\n",
        "prediction_multi_1.append(model.predict(janela[np.newaxis,:,:])[0,0])\n",
        "print(prediction_multi_1)\n",
        "janela = janela[1:]\n",
        "janela = np.insert(janela, (janela.shape[0]), model.predict(janela[np.newaxis,:,:])[0,0], axis=0)\n",
        "prediction_multi_1.append(model.predict(janela[np.newaxis,:,:])[0,0])\n",
        "print(prediction_multi_1)\n",
        "janela = janela[1:]\n",
        "janela = np.insert(janela, (janela.shape[0]), model.predict(janela[np.newaxis,:,:])[0,0], axis=0)\n",
        "prediction_multi_1.append(model.predict(janela[np.newaxis,:,:])[0,0])\n",
        "print(prediction_multi_1)\n",
        "janela = janela[1:]\n",
        "janela = np.insert(janela, (janela.shape[0]), model.predict(janela[np.newaxis,:,:])[0,0], axis=0)\n",
        "prediction_multi_1.append(model.predict(janela[np.newaxis,:,:])[0,0])\n",
        "print(prediction_multi_1)\n",
        "janela = janela[1:]\n",
        "janela = np.insert(janela, (janela.shape[0]), model.predict(janela[np.newaxis,:,:])[0,0], axis=0)\n",
        "prediction_multi_1.append(model.predict(janela[np.newaxis,:,:])[0,0])\n",
        "print(prediction_multi_1)\n",
        "janela = janela[1:]\n",
        "janela = np.insert(janela, (janela.shape[0]), model.predict(janela[np.newaxis,:,:])[0,0], axis=0)\n",
        "prediction_multi_1.append(model.predict(janela[np.newaxis,:,:])[0,0])\n",
        "print(prediction_multi_1)\n",
        "janela = janela[1:]\n",
        "janela = np.insert(janela, (janela.shape[0]), model.predict(janela[np.newaxis,:,:])[0,0], axis=0)\n",
        "prediction_multi_1.append(model.predict(janela[np.newaxis,:,:])[0,0])\n",
        "print(prediction_multi_1)\n",
        "janela = janela[1:]\n",
        "janela = np.insert(janela, (janela.shape[0]), model.predict(janela[np.newaxis,:,:])[0,0], axis=0)\n",
        "prediction_multi_1.append(model.predict(janela[np.newaxis,:,:])[0,0])\n",
        "print(prediction_multi_1)\n",
        "janela = janela[1:]\n",
        "janela = np.insert(janela, (janela.shape[0]), model.predict(janela[np.newaxis,:,:])[0,0], axis=0)\n",
        "prediction_multi_1.append(model.predict(janela[np.newaxis,:,:])[0,0])\n",
        "print(prediction_multi_1)\n",
        "janela = janela[1:]\n",
        "janela = np.insert(janela, (janela.shape[0]), model.predict(janela[np.newaxis,:,:])[0,0], axis=0)\n",
        "prediction_multi_1.append(model.predict(janela[np.newaxis,:,:])[0,0])\n",
        "print(prediction_multi_1)\n",
        "janela = janela[1:]\n",
        "janela = np.insert(janela, (janela.shape[0]), model.predict(janela[np.newaxis,:,:])[0,0], axis=0)\n",
        "prediction_multi_1.append(model.predict(janela[np.newaxis,:,:])[0,0])\n",
        "print(prediction_multi_1)\n",
        "janela = janela[1:]\n",
        "janela = np.insert(janela, (janela.shape[0]), model.predict(janela[np.newaxis,:,:])[0,0], axis=0)\n",
        "prediction_multi_1.append(model.predict(janela[np.newaxis,:,:])[0,0])\n",
        "print(prediction_multi_1)\n",
        "janela = janela[1:]\n",
        "janela = np.insert(janela, (janela.shape[0]), model.predict(janela[np.newaxis,:,:])[0,0], axis=0)\n",
        "prediction_multi_1.append(model.predict(janela[np.newaxis,:,:])[0,0])\n",
        "print(prediction_multi_1)\n",
        "janela = janela[1:]\n",
        "janela = np.insert(janela, (janela.shape[0]), model.predict(janela[np.newaxis,:,:])[0,0], axis=0)\n",
        "prediction_multi_1.append(model.predict(janela[np.newaxis,:,:])[0,0])\n",
        "print(prediction_multi_1)\n",
        "janela = janela[1:]\n",
        "janela = np.insert(janela, (janela.shape[0]), model.predict(janela[np.newaxis,:,:])[0,0], axis=0)\n",
        "prediction_multi_1.append(model.predict(janela[np.newaxis,:,:])[0,0])\n",
        "print(prediction_multi_1)\n",
        "janela = janela[1:]\n",
        "janela = np.insert(janela, (janela.shape[0]), model.predict(janela[np.newaxis,:,:])[0,0], axis=0)\n",
        "prediction_multi_1.append(model.predict(janela[np.newaxis,:,:])[0,0])\n",
        "print(prediction_multi_1)\n",
        "janela = janela[1:]\n",
        "janela = np.insert(janela, (janela.shape[0]), model.predict(janela[np.newaxis,:,:])[0,0], axis=0)\n",
        "prediction_multi_1.append(model.predict(janela[np.newaxis,:,:])[0,0])\n",
        "print(prediction_multi_1)\n",
        "janela = janela[1:]\n",
        "janela = np.insert(janela, (janela.shape[0]), model.predict(janela[np.newaxis,:,:])[0,0], axis=0)\n",
        "prediction_multi_1.append(model.predict(janela[np.newaxis,:,:])[0,0])\n",
        "print(prediction_multi_1)\n",
        "janela = janela[1:]\n",
        "janela = np.insert(janela, (janela.shape[0]), model.predict(janela[np.newaxis,:,:])[0,0], axis=0)\n",
        "prediction_multi_1.append(model.predict(janela[np.newaxis,:,:])[0,0])\n",
        "print(prediction_multi_1)\n",
        "janela = janela[1:]\n",
        "janela = np.insert(janela, (janela.shape[0]), model.predict(janela[np.newaxis,:,:])[0,0], axis=0)\n",
        "prediction_multi_1.append(model.predict(janela[np.newaxis,:,:])[0,0])\n",
        "print(prediction_multi_1)\n",
        "janela = janela[1:]\n",
        "janela = np.insert(janela, (janela.shape[0]), model.predict(janela[np.newaxis,:,:])[0,0], axis=0)\n",
        "prediction_multi_1.append(model.predict(janela[np.newaxis,:,:])[0,0])\n",
        "print(prediction_multi_1)\n",
        "janela = janela[1:]\n",
        "janela = np.insert(janela, (janela.shape[0]), model.predict(janela[np.newaxis,:,:])[0,0], axis=0)\n",
        "prediction_multi_1.append(model.predict(janela[np.newaxis,:,:])[0,0])\n",
        "print(prediction_multi_1)\n",
        "janela = janela[1:]\n",
        "janela = np.insert(janela, (janela.shape[0]), model.predict(janela[np.newaxis,:,:])[0,0], axis=0)\n",
        "prediction_multi_1.append(model.predict(janela[np.newaxis,:,:])[0,0])\n",
        "print(prediction_multi_1)"
      ]
    },
    {
      "cell_type": "code",
      "execution_count": null,
      "metadata": {
        "colab": {
          "background_save": true
        },
        "id": "-asf11us5pcD"
      },
      "outputs": [],
      "source": [
        "prediction_multi_1 = []\n",
        "janela = X_test_U[0]\n",
        "janela_futuro_1 = 20 #2160"
      ]
    },
    {
      "cell_type": "code",
      "execution_count": null,
      "metadata": {
        "colab": {
          "background_save": true
        },
        "id": "EJQMdDO0ZksC"
      },
      "outputs": [],
      "source": [
        "sequencia_completa(model,janela,janela_futuro_1,prediction_multi_1)"
      ]
    },
    {
      "cell_type": "code",
      "execution_count": null,
      "metadata": {
        "colab": {
          "background_save": true
        },
        "id": "GzNQTk1tU9UA"
      },
      "outputs": [],
      "source": [
        "plot_multistep(X_test_U[0],prediction_multi_1,y_plot_U[:janela_futuro_1])"
      ]
    },
    {
      "cell_type": "code",
      "execution_count": null,
      "metadata": {
        "colab": {
          "background_save": true
        },
        "id": "GTWz3Xi488ge"
      },
      "outputs": [],
      "source": [
        "lstm_score = r2_score(y_plot_U[:janela_futuro_1], prediction_multi_1)   # Relacionado à regressão linear dos valores verdadeiros. É calculado com base no erro quadrático residual e erro total. O valor pode ser interpretado como a proporção dos valores previstos que estão na linha criada pela regressão.\n",
        "print(\"R^2 Score of LSTM model = \",lstm_score)\n",
        "print(\" \")\n",
        "\n",
        "lstm_score2 = mean_absolute_error(y_plot_U[:janela_futuro_1], prediction_multi_1)\n",
        "print(\"MAE(Erro absoluto médio) Score of LSTM model = \",lstm_score2)\n",
        "print(\" \")\n",
        "\n",
        "lstm_score3 = mean_squared_error(y_plot_U[:janela_futuro_1], prediction_multi_1)\n",
        "print(\"MSE(Erro quadrático médio) Score of LSTM model = \",lstm_score3)\n",
        "print(\" \")\n",
        "\n",
        "lstm_score4 = mean_absolute_percentage_error(y_plot_U[:janela_futuro_1], prediction_multi_1)\n",
        "print(\"MAPE(Erro percentual médio absoluto) Score of LSTM model = \",lstm_score4)"
      ]
    },
    {
      "cell_type": "code",
      "execution_count": null,
      "metadata": {
        "colab": {
          "background_save": true
        },
        "id": "Or_zxMX8DwEy"
      },
      "outputs": [],
      "source": [
        "###################################################################################################"
      ]
    },
    {
      "cell_type": "code",
      "execution_count": null,
      "metadata": {
        "colab": {
          "background_save": true
        },
        "id": "2ZbhNAqmrMXi"
      },
      "outputs": [],
      "source": [
        "def incremento(X_train_U,y_train_U,y_test_U,janela_futuro):\n",
        "\n",
        "  X_train_U_novo = np.reshape(X_train_U, (X_train_U.shape[0], seq_len)) #reshape em 2-dimension para poder concatenar\n",
        "  X_test_U_2d = X_test_U[:janela_futuro].reshape(janela_futuro, -1) #reshape em 2-dimension para poder concatenar\n",
        "\n",
        "  X_train_U_novo = pd.concat([pd.DataFrame(X_train_U_novo), pd.DataFrame(X_test_U_2d[:janela_futuro])], axis=0) #inicialmente X_test_U era transposto .T\n",
        "  y_train_U_novo = pd.concat([pd.DataFrame(y_train_U), pd.DataFrame(y_test_U[:janela_futuro])], axis=0)\n",
        "\n",
        "  X_train_U_novo = np.reshape(X_train_U_novo, (X_train_U_novo.shape[0], seq_len, 1)) #reshape em 3-dimension pq a rede LSTM exige entrada 3-dimension\n",
        "\n",
        "  print(X_train_U_novo.shape)\n",
        "  print(y_train_U_novo.shape)\n",
        "\n",
        "  print(np.any(np.isnan(X_train_U_novo)), np.any(np.isnan(y_train_U_novo)))\n",
        "  print(np.any(np.isinf(X_train_U_novo)), np.any(np.isinf(y_train_U_novo)))\n",
        "\n",
        "  return X_train_U_novo, y_train_U_novo\n",
        "\n"
      ]
    },
    {
      "cell_type": "code",
      "execution_count": null,
      "metadata": {
        "colab": {
          "background_save": true
        },
        "id": "Dn-YQPn8zkIK"
      },
      "outputs": [],
      "source": [
        "X_train_U.shape"
      ]
    },
    {
      "cell_type": "code",
      "execution_count": null,
      "metadata": {
        "colab": {
          "base_uri": "https://localhost:8080/"
        },
        "id": "oMwV_IhH1GqG",
        "outputId": "195f65eb-ebcd-46b9-bbe4-0134dda225f6"
      },
      "outputs": [],
      "source": [
        "prediction_multi_2 = []\n",
        "janela_2 = X_test_U[1080]\n",
        "janela_futuro_2 = 2160\n",
        "\n",
        "X_train_n, y_train_n = incremento(X_train_U,y_train_U,y_test_U,janela_futuro_1)\n",
        "\n",
        "treinamento(model,X_train_n,y_train_n,0.0001,200,20)\n",
        "\n",
        "sequencia_completa(model,janela_2,janela_futuro_1,prediction_multi_2)"
      ]
    },
    {
      "cell_type": "code",
      "execution_count": null,
      "metadata": {
        "colab": {
          "background_save": true
        },
        "id": "Y4CoO9VobjXF",
        "outputId": "ffbc9083-0f4a-437e-9021-9784901dfb0b"
      },
      "outputs": [],
      "source": [
        "plot_multistep(X_test_U[1080],prediction_multi_2,y_plot_U[janela_futuro_1:janela_futuro_2])"
      ]
    },
    {
      "cell_type": "code",
      "execution_count": null,
      "metadata": {
        "colab": {
          "background_save": true
        },
        "id": "ZW1OxYYZ6o3d"
      },
      "outputs": [],
      "source": [
        "lstm_score = r2_score(y_plot_U[janela_futuro_1:janela_futuro_2], prediction_multi_2)   # Relacionado à regressão linear dos valores verdadeiros. É calculado com base no erro quadrático residual e erro total. O valor pode ser interpretado como a proporção dos valores previstos que estão na linha criada pela regressão.\n",
        "print(\"R^2 Score of LSTM model = \",lstm_score)\n",
        "print(\" \")\n",
        "\n",
        "lstm_score2 = mean_absolute_error(y_plot_U[janela_futuro_1:janela_futuro_2], prediction_multi_2)\n",
        "print(\"MAE(Erro absoluto médio) Score of LSTM model = \",lstm_score2)\n",
        "print(\" \")\n",
        "\n",
        "lstm_score3 = mean_squared_error(y_plot_U[janela_futuro_1:janela_futuro_2], prediction_multi_2)\n",
        "print(\"MSE(Erro quadrático médio) Score of LSTM model = \",lstm_score3)\n",
        "print(\" \")\n",
        "\n",
        "lstm_score4 = mean_absolute_percentage_error(y_plot_U[janela_futuro_1:janela_futuro_2], prediction_multi_2)\n",
        "print(\"MAPE(Erro percentual médio absoluto) Score of LSTM model = \",lstm_score4)"
      ]
    },
    {
      "cell_type": "code",
      "execution_count": null,
      "metadata": {
        "colab": {
          "background_save": true
        },
        "id": "itKoYNZH9jh2"
      },
      "outputs": [],
      "source": [
        "###################################################################################################"
      ]
    },
    {
      "cell_type": "code",
      "execution_count": null,
      "metadata": {
        "colab": {
          "background_save": true
        },
        "id": "R6K3K0ge8PwI"
      },
      "outputs": [],
      "source": [
        "# LSTM MULTISTEP - Implementação 2 (modelo Saulo)\n",
        "\n",
        "# prediction_multi = []\n",
        "# janela = X_test_U[0]\n",
        "# janela_futuro = 24\n",
        "\n",
        "# for j in range((int(X_test_U.shape[0]/janela_futuro)-80)):\n",
        "#     if j == 0:\n",
        "#         sequencia_completa(lstm_model_final,janela,janela_futuro,prediction_multi)\n",
        "#     else:\n",
        "\n",
        "#         X_train_U = np.reshape(X_train_U, (X_train_U.shape[0], seq_len)) #reshape em 2-dimension para poder concatenar\n",
        "\n",
        "#         X_train_U = pd.concat([pd.DataFrame(X_train_U), pd.DataFrame(X_test_U[j-1].T)], axis=0)\n",
        "#         y_train_U = pd.concat([pd.DataFrame(y_train_U), pd.DataFrame(y_test_U[j-1:j-1+seq_len])], axis=0)\n",
        "\n",
        "#         X_train_U = np.reshape(X_train_U, (X_train_U.shape[0], seq_len, 1)) #reshape em 3-dimension pq a rede LSTM exige entrada 3-dimension\n",
        "\n",
        "#         treinamento(lstm_model_final,X_train_U,y_train_U,0.0001,200,15)\n",
        "        #treinamento(X_train,y_train)\n",
        "#         janela = X_test_U[j]\n",
        "#         sequencia_completa(lstm_model_final,janela,janela_futuro,prediction_multi)"
      ]
    }
  ],
  "metadata": {
    "colab": {
      "collapsed_sections": [
        "rQy75p6HhZim",
        "qW4ExC6UnZz_",
        "sfY3t1p7oHSV",
        "E1yXXSWtDxuN"
      ],
      "provenance": []
    },
    "kernelspec": {
      "display_name": "Python 3",
      "name": "python3"
    },
    "language_info": {
      "codemirror_mode": {
        "name": "ipython",
        "version": 3
      },
      "file_extension": ".py",
      "mimetype": "text/x-python",
      "name": "python",
      "nbconvert_exporter": "python",
      "pygments_lexer": "ipython3",
      "version": "3.10.4"
    }
  },
  "nbformat": 4,
  "nbformat_minor": 0
}
