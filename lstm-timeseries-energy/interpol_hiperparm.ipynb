{
 "cells": [
  {
   "cell_type": "code",
   "execution_count": 2,
   "metadata": {},
   "outputs": [
    {
     "name": "stdout",
     "output_type": "stream",
     "text": [
      "Total de combinações: 5832\n"
     ]
    }
   ],
   "source": [
    "import json\n",
    "import itertools\n",
    "\n",
    "# Carregar o arquivo JSON\n",
    "with open('config.json') as f:\n",
    "    config = json.load(f)\n",
    "\n",
    "# Gerar combinações de hiperparâmetros para treino\n",
    "param_combinations = list(itertools.product(\n",
    "    config['training']['batch_size'],\n",
    "    config['training']['epochs'],\n",
    "    config['training']['optimizer'],\n",
    "    config['training']['learning_rate'],\n",
    "    config['training']['loss_function'],\n",
    "    config['training']['shuffle'],\n",
    "    config['training']['stateful'],\n",
    "    config['training']['timesteps'],\n",
    "    config['training']['dropout']\n",
    "))\n",
    "\n",
    "print(f\"Total de combinações: {len(param_combinations)}\")  # Checar quantas combinações"
   ]
  }
 ],
 "metadata": {
  "kernelspec": {
   "display_name": "Python 3",
   "language": "python",
   "name": "python3"
  },
  "language_info": {
   "codemirror_mode": {
    "name": "ipython",
    "version": 3
   },
   "file_extension": ".py",
   "mimetype": "text/x-python",
   "name": "python",
   "nbconvert_exporter": "python",
   "pygments_lexer": "ipython3",
   "version": "3.10.4"
  }
 },
 "nbformat": 4,
 "nbformat_minor": 2
}
