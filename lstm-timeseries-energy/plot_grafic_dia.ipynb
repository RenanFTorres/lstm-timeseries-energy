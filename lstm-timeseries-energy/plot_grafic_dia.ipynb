{
 "cells": [
  {
   "cell_type": "code",
   "execution_count": 3,
   "metadata": {},
   "outputs": [],
   "source": [
    "import os\n",
    "import pandas as pd\n",
    "import matplotlib.pyplot as plt\n",
    "\n",
    "def plot_e_salvar_consumo_diario(caminho_arquivo):\n",
    "    # Carregar os dados do arquivo CSV\n",
    "    df = pd.read_csv(caminho_arquivo)\n",
    "    \n",
    "    # Converter a coluna 'timestamp' para datetime\n",
    "    df['timestamp'] = pd.to_datetime(df['timestamp'], format='%Y-%m-%d')\n",
    "    \n",
    "    # Configurar o índice do DataFrame como a coluna 'timestamp'\n",
    "    df.set_index('timestamp', inplace=True)\n",
    "    df = df[:55]\n",
    "    \n",
    "    # Criar o gráfico de consumo de energia diário\n",
    "    plt.figure(figsize=(10, 6))\n",
    "    plt.plot(df.index, df['kWh fornecido'], label='Consumo de Energia (kWh)', color='blue')\n",
    "    \n",
    "    # Adicionar título e rótulos\n",
    "    plt.title('Consumo de Energia ao Longo de 1 Ano', fontsize=14)\n",
    "    plt.xlabel('Data', fontsize=12)\n",
    "    plt.ylabel('kWh Fornecido', fontsize=12)\n",
    "    \n",
    "    # Adicionar grade e legenda\n",
    "    plt.grid(True)\n",
    "    plt.legend()\n",
    "    \n",
    "    # Ajustar para que o layout do gráfico seja bem exibido\n",
    "    plt.xticks(rotation=45)\n",
    "    plt.tight_layout()\n",
    "    \n",
    "    # Extrair o nome da pasta e o nome base do arquivo\n",
    "    pasta, nome_arquivo = os.path.split(caminho_arquivo)\n",
    "    \n",
    "    # Definir o nome do arquivo de saída para o gráfico\n",
    "    nome_grafico = f\"{os.path.splitext(nome_arquivo)[0]}_consumo.png\"\n",
    "    caminho_grafico = os.path.join(pasta, nome_grafico)\n",
    "    \n",
    "    # Salvar o gráfico como PNG na mesma pasta\n",
    "    plt.savefig(caminho_grafico)\n",
    "    \n",
    "    # Fechar a figura para liberar a memória\n",
    "    plt.close()\n",
    "    \n",
    "    print(f\"Gráfico salvo em: {caminho_grafico}\")\n",
    "\n"
   ]
  },
  {
   "cell_type": "code",
   "execution_count": 4,
   "metadata": {},
   "outputs": [
    {
     "name": "stdout",
     "output_type": "stream",
     "text": [
      "Gráfico salvo em: ./dataset/outras_unidades/AEP\\AEP_diarios_consumo.png\n"
     ]
    }
   ],
   "source": [
    "base_path = './dataset/'\n",
    "\n",
    "plot_e_salvar_consumo_diario(f'{base_path}outras_unidades/AEP/AEP_semanal.csv')"
   ]
  }
 ],
 "metadata": {
  "kernelspec": {
   "display_name": "Python 3",
   "language": "python",
   "name": "python3"
  },
  "language_info": {
   "codemirror_mode": {
    "name": "ipython",
    "version": 3
   },
   "file_extension": ".py",
   "mimetype": "text/x-python",
   "name": "python",
   "nbconvert_exporter": "python",
   "pygments_lexer": "ipython3",
   "version": "3.10.4"
  }
 },
 "nbformat": 4,
 "nbformat_minor": 2
}
