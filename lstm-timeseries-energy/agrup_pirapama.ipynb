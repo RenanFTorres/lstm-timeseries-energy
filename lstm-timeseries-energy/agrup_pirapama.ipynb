{
 "cells": [
  {
   "cell_type": "code",
   "execution_count": 15,
   "metadata": {},
   "outputs": [],
   "source": [
    "import pandas as pd\n",
    "\n",
    "def agrupar_consumo_energia(caminho_pasta, arquivo_csv):\n",
    "    # Carregar o arquivo CSV com o delimitador correto (vírgula)\n",
    "    df = pd.read_csv(caminho_pasta + arquivo_csv, delimiter=',')\n",
    "    \n",
    "    # Verificar as primeiras linhas do dataframe\n",
    "    print(\"Primeiras linhas do dataframe:\")\n",
    "    print(df.head())\n",
    "\n",
    "    # Converter a coluna 'Data' para datetime\n",
    "    df['Data'] = pd.to_datetime(df['Data'], format='%d/%m/%Y %H:%M:%S', errors='coerce')\n",
    "\n",
    "    # Verificar se a conversão foi feita corretamente\n",
    "    print(\"Primeiras linhas após conversão de 'Data':\")\n",
    "    print(df.head())\n",
    "\n",
    "    # Agrupar por hora e somar o consumo\n",
    "    df_hora = df.groupby(df['Data'].dt.floor('h')).agg({'kWh fornecido': 'sum'}).reset_index()\n",
    "\n",
    "    # Verificar se o agrupamento por hora funcionou\n",
    "    print(f\"Primeiras linhas do agrupamento por hora:\")\n",
    "    print(df_hora.head())\n",
    "\n",
    "    # Agrupar por dia e somar o consumo\n",
    "    df_dia = df.groupby(df['Data'].dt.date).agg({'kWh fornecido': 'sum'}).reset_index()\n",
    "\n",
    "    # Verificar se o agrupamento por dia funcionou\n",
    "    print(f\"Primeiras linhas do agrupamento por dia:\")\n",
    "    print(df_dia.head())\n",
    "\n",
    "    # Salvar os arquivos de saída na mesma pasta do arquivo original\n",
    "    df_hora.to_csv(caminho_pasta + f\"agrupado_hora_{arquivo_csv}\", index=False)\n",
    "    df_dia.to_csv(caminho_pasta + f\"agrupado_dia_{arquivo_csv}\", index=False)\n",
    "\n",
    "    print(f\"Arquivos salvos em: {caminho_pasta}agrupado_hora_{arquivo_csv} e {caminho_pasta}agrupado_dia_{arquivo_csv}\")\n",
    "\n"
   ]
  },
  {
   "cell_type": "code",
   "execution_count": 16,
   "metadata": {},
   "outputs": [
    {
     "name": "stdout",
     "output_type": "stream",
     "text": [
      "Primeiras linhas do dataframe:\n",
      "                  Data  kWh fornecido\n",
      "0  01/01/2021 00:15:00         1306.8\n",
      "1  01/01/2021 00:30:00         1317.6\n",
      "2  01/01/2021 00:45:00         1312.2\n",
      "3  01/01/2021 01:00:00         1312.2\n",
      "4  01/01/2021 01:15:00         1312.2\n",
      "Primeiras linhas após conversão de 'Data':\n",
      "                 Data  kWh fornecido\n",
      "0 2021-01-01 00:15:00         1306.8\n",
      "1 2021-01-01 00:30:00         1317.6\n",
      "2 2021-01-01 00:45:00         1312.2\n",
      "3 2021-01-01 01:00:00         1312.2\n",
      "4 2021-01-01 01:15:00         1312.2\n",
      "Primeiras linhas do agrupamento por hora:\n",
      "                 Data  kWh fornecido\n",
      "0 2021-01-01 00:00:00         3936.6\n",
      "1 2021-01-01 01:00:00         5254.2\n",
      "2 2021-01-01 02:00:00         5286.6\n",
      "3 2021-01-01 03:00:00         5254.2\n",
      "4 2021-01-01 04:00:00         5254.2\n",
      "Primeiras linhas do agrupamento por dia:\n",
      "         Data  kWh fornecido\n",
      "0  2021-01-01       126781.2\n",
      "1  2021-01-02       127526.4\n",
      "2  2021-01-03       127888.2\n",
      "3  2021-01-04       127472.4\n",
      "4  2021-01-05       127855.8\n",
      "Arquivos salvos em: ./dataset/outras_unidades/pirapama/agrupado_hora_Pirapama_2021.csv e ./dataset/outras_unidades/pirapama/agrupado_dia_Pirapama_2021.csv\n"
     ]
    }
   ],
   "source": [
    "\n",
    "# Exemplo de uso\n",
    "# Caminho da pasta onde está o arquivo .csv\n",
    "base_path = './dataset/'\n",
    "\n",
    "caminho_pasta = f'{base_path}outras_unidades/pirapama/'\n",
    "arquivo_csv = 'Pirapama_2021.csv'\n",
    "\n",
    "agrupar_consumo_energia(caminho_pasta, arquivo_csv)"
   ]
  }
 ],
 "metadata": {
  "kernelspec": {
   "display_name": "Python 3",
   "language": "python",
   "name": "python3"
  },
  "language_info": {
   "codemirror_mode": {
    "name": "ipython",
    "version": 3
   },
   "file_extension": ".py",
   "mimetype": "text/x-python",
   "name": "python",
   "nbconvert_exporter": "python",
   "pygments_lexer": "ipython3",
   "version": "3.10.4"
  }
 },
 "nbformat": 4,
 "nbformat_minor": 2
}
