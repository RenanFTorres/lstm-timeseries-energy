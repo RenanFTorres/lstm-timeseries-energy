{
 "cells": [
  {
   "cell_type": "code",
   "execution_count": 3,
   "metadata": {},
   "outputs": [],
   "source": [
    "import pandas as pd\n",
    "import os\n",
    "\n",
    "def agrupar_consumo_por_semana(caminho_arquivo):\n",
    "    # Carregar o arquivo CSV diretamente\n",
    "    df = pd.read_csv(caminho_arquivo)\n",
    "\n",
    "    # Verificar se a coluna 'Data' está no formato datetime\n",
    "    if not pd.api.types.is_datetime64_any_dtype(df['Data']):\n",
    "        # Converter a coluna 'Data' para o tipo datetime\n",
    "        df['Data'] = pd.to_datetime(df['Data'], format='%Y-%m-%d', errors='coerce')\n",
    "\n",
    "    # Definir o índice como a coluna 'Data'\n",
    "    df.set_index('Data', inplace=True)\n",
    "\n",
    "    # Agrupar por semana, somando os valores de 'kWh fornecido'\n",
    "    df_semanal = df.resample('7D').sum()\n",
    "\n",
    "    # Criar o nome do arquivo de saída baseado no arquivo original\n",
    "    nome_arquivo_saida = os.path.splitext(caminho_arquivo)[0] + '_semanal.csv'\n",
    "\n",
    "    # Salvar o novo arquivo CSV\n",
    "    df_semanal.to_csv(nome_arquivo_saida)\n",
    "\n",
    "    print(f\"Arquivo semanal salvo em: {nome_arquivo_saida}\")\n"
   ]
  },
  {
   "cell_type": "code",
   "execution_count": 4,
   "metadata": {},
   "outputs": [
    {
     "name": "stdout",
     "output_type": "stream",
     "text": [
      "Arquivo semanal salvo em: ./dataset/outras_unidades/AEP/AEP_diarios_semanal.csv\n"
     ]
    }
   ],
   "source": [
    "# Exemplo de uso\n",
    "# Caminho da pasta onde está o arquivo .csv\n",
    "base_path = './dataset/'\n",
    "\n",
    "caminho_pasta = f'{base_path}outras_unidades/AEP/AEP_diarios.csv'\n",
    "\n",
    "\n",
    "agrupar_consumo_por_semana(caminho_pasta)"
   ]
  }
 ],
 "metadata": {
  "kernelspec": {
   "display_name": "Python 3",
   "language": "python",
   "name": "python3"
  },
  "language_info": {
   "codemirror_mode": {
    "name": "ipython",
    "version": 3
   },
   "file_extension": ".py",
   "mimetype": "text/x-python",
   "name": "python",
   "nbconvert_exporter": "python",
   "pygments_lexer": "ipython3",
   "version": "3.10.4"
  }
 },
 "nbformat": 4,
 "nbformat_minor": 2
}
